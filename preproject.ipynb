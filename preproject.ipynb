{
 "cells": [
  {
   "cell_type": "markdown",
   "id": "dd97255d",
   "metadata": {},
   "source": [
    "#### Read the dataset assets/real_estate.csv and try to visualize the table (★☆☆)"
   ]
  },
  {
   "cell_type": "markdown",
   "id": "c4e52ee5",
   "metadata": {},
   "source": [
    "## The dataset\n",
    "\n",
    "This is a real dataset and it was downloaded using web scraping techniques. The data contains registers from fotocasa which is one of the most popular websites of real estate in Spain. Please, do not do this (web scraping) unless it is for academic purposes.\n",
    "\n",
    "The dataset was downloaded a few years ago by Henry Navarro and In no case were economic returns obtained from it.\n",
    "\n",
    "It contains thousands of data from real homes published on the web www.fotocasa.com. Your goal is to extract as much information as possible with the knowledge you have so far about data science, for example what is the most expensive home in the entire dataset?\n",
    "\n",
    "Let's start with precisely that question... Good luck!\n",
    "\n",
    "import pandas as pd\n",
    "import numpy as np\n"
   ]
  },
  {
   "cell_type": "code",
   "execution_count": 1,
   "id": "7220626a",
   "metadata": {},
   "outputs": [],
   "source": [
    "import pandas as pd\n",
    "import numpy as np\n",
    "import matplotlib_inline as mp\n",
    "import matplotlib.pyplot as plt\n"
   ]
  },
  {
   "cell_type": "code",
   "execution_count": 2,
   "id": "9832bf3f",
   "metadata": {},
   "outputs": [
    {
     "data": {
      "text/html": [
       "<div>\n",
       "<style scoped>\n",
       "    .dataframe tbody tr th:only-of-type {\n",
       "        vertical-align: middle;\n",
       "    }\n",
       "\n",
       "    .dataframe tbody tr th {\n",
       "        vertical-align: top;\n",
       "    }\n",
       "\n",
       "    .dataframe thead th {\n",
       "        text-align: right;\n",
       "    }\n",
       "</style>\n",
       "<table border=\"1\" class=\"dataframe\">\n",
       "  <thead>\n",
       "    <tr style=\"text-align: right;\">\n",
       "      <th></th>\n",
       "      <th>Unnamed: 0</th>\n",
       "      <th>id_realEstates</th>\n",
       "      <th>isNew</th>\n",
       "      <th>realEstate_name</th>\n",
       "      <th>phone_realEstate</th>\n",
       "      <th>url_inmueble</th>\n",
       "      <th>rooms</th>\n",
       "      <th>bathrooms</th>\n",
       "      <th>surface</th>\n",
       "      <th>price</th>\n",
       "      <th>...</th>\n",
       "      <th>level4Id</th>\n",
       "      <th>level5Id</th>\n",
       "      <th>level6Id</th>\n",
       "      <th>level7Id</th>\n",
       "      <th>level8Id</th>\n",
       "      <th>accuracy</th>\n",
       "      <th>latitude</th>\n",
       "      <th>longitude</th>\n",
       "      <th>zipCode</th>\n",
       "      <th>customZone</th>\n",
       "    </tr>\n",
       "  </thead>\n",
       "  <tbody>\n",
       "    <tr>\n",
       "      <th>1450</th>\n",
       "      <td>1451</td>\n",
       "      <td>152791318</td>\n",
       "      <td>False</td>\n",
       "      <td>oih</td>\n",
       "      <td>912170482.0</td>\n",
       "      <td>https://www.fotocasa.es/vivienda/guadarrama/c-...</td>\n",
       "      <td>4.0</td>\n",
       "      <td>3.0</td>\n",
       "      <td>270.0</td>\n",
       "      <td>365000</td>\n",
       "      <td>...</td>\n",
       "      <td>0</td>\n",
       "      <td>0</td>\n",
       "      <td>0</td>\n",
       "      <td>0</td>\n",
       "      <td>0</td>\n",
       "      <td>0</td>\n",
       "      <td>40,60225</td>\n",
       "      <td>-3,96713</td>\n",
       "      <td>NaN</td>\n",
       "      <td>NaN</td>\n",
       "    </tr>\n",
       "    <tr>\n",
       "      <th>13278</th>\n",
       "      <td>13279</td>\n",
       "      <td>152557558</td>\n",
       "      <td>False</td>\n",
       "      <td>remax boreal</td>\n",
       "      <td>910925463.0</td>\n",
       "      <td>https://www.fotocasa.es/es/comprar/vivienda/ma...</td>\n",
       "      <td>6.0</td>\n",
       "      <td>NaN</td>\n",
       "      <td>400.0</td>\n",
       "      <td>430000</td>\n",
       "      <td>...</td>\n",
       "      <td>0</td>\n",
       "      <td>0</td>\n",
       "      <td>0</td>\n",
       "      <td>0</td>\n",
       "      <td>0</td>\n",
       "      <td>0</td>\n",
       "      <td>40,31585</td>\n",
       "      <td>-3,44548</td>\n",
       "      <td>NaN</td>\n",
       "      <td>NaN</td>\n",
       "    </tr>\n",
       "    <tr>\n",
       "      <th>8787</th>\n",
       "      <td>8788</td>\n",
       "      <td>149431067</td>\n",
       "      <td>False</td>\n",
       "      <td>unica inmobiliaria</td>\n",
       "      <td>914892919.0</td>\n",
       "      <td>https://www.fotocasa.es/es/comprar/vivienda/pi...</td>\n",
       "      <td>3.0</td>\n",
       "      <td>2.0</td>\n",
       "      <td>151.0</td>\n",
       "      <td>800000</td>\n",
       "      <td>...</td>\n",
       "      <td>0</td>\n",
       "      <td>0</td>\n",
       "      <td>0</td>\n",
       "      <td>0</td>\n",
       "      <td>0</td>\n",
       "      <td>0</td>\n",
       "      <td>40,45935</td>\n",
       "      <td>-3,68333</td>\n",
       "      <td>NaN</td>\n",
       "      <td>NaN</td>\n",
       "    </tr>\n",
       "    <tr>\n",
       "      <th>15217</th>\n",
       "      <td>15218</td>\n",
       "      <td>150968229</td>\n",
       "      <td>False</td>\n",
       "      <td>grupo h h vivienda</td>\n",
       "      <td>910759921.0</td>\n",
       "      <td>https://www.fotocasa.es/es/comprar/vivienda/pa...</td>\n",
       "      <td>4.0</td>\n",
       "      <td>3.0</td>\n",
       "      <td>193.0</td>\n",
       "      <td>290000</td>\n",
       "      <td>...</td>\n",
       "      <td>0</td>\n",
       "      <td>0</td>\n",
       "      <td>0</td>\n",
       "      <td>0</td>\n",
       "      <td>0</td>\n",
       "      <td>0</td>\n",
       "      <td>40,67027</td>\n",
       "      <td>-4,08932</td>\n",
       "      <td>NaN</td>\n",
       "      <td>NaN</td>\n",
       "    </tr>\n",
       "    <tr>\n",
       "      <th>5565</th>\n",
       "      <td>5566</td>\n",
       "      <td>153605325</td>\n",
       "      <td>False</td>\n",
       "      <td>yca inmobiliaria</td>\n",
       "      <td>949802065.0</td>\n",
       "      <td>https://www.fotocasa.es/es/comprar/vivienda/po...</td>\n",
       "      <td>3.0</td>\n",
       "      <td>4.0</td>\n",
       "      <td>183.0</td>\n",
       "      <td>308000</td>\n",
       "      <td>...</td>\n",
       "      <td>0</td>\n",
       "      <td>0</td>\n",
       "      <td>0</td>\n",
       "      <td>0</td>\n",
       "      <td>0</td>\n",
       "      <td>0</td>\n",
       "      <td>40,49911</td>\n",
       "      <td>-3,37373</td>\n",
       "      <td>NaN</td>\n",
       "      <td>NaN</td>\n",
       "    </tr>\n",
       "  </tbody>\n",
       "</table>\n",
       "<p>5 rows × 37 columns</p>\n",
       "</div>"
      ],
      "text/plain": [
       "       Unnamed: 0  id_realEstates  isNew     realEstate_name  \\\n",
       "1450         1451       152791318  False                 oih   \n",
       "13278       13279       152557558  False        remax boreal   \n",
       "8787         8788       149431067  False  unica inmobiliaria   \n",
       "15217       15218       150968229  False  grupo h h vivienda   \n",
       "5565         5566       153605325  False    yca inmobiliaria   \n",
       "\n",
       "       phone_realEstate                                       url_inmueble  \\\n",
       "1450        912170482.0  https://www.fotocasa.es/vivienda/guadarrama/c-...   \n",
       "13278       910925463.0  https://www.fotocasa.es/es/comprar/vivienda/ma...   \n",
       "8787        914892919.0  https://www.fotocasa.es/es/comprar/vivienda/pi...   \n",
       "15217       910759921.0  https://www.fotocasa.es/es/comprar/vivienda/pa...   \n",
       "5565        949802065.0  https://www.fotocasa.es/es/comprar/vivienda/po...   \n",
       "\n",
       "       rooms  bathrooms  surface   price  ... level4Id level5Id level6Id  \\\n",
       "1450     4.0        3.0    270.0  365000  ...        0        0        0   \n",
       "13278    6.0        NaN    400.0  430000  ...        0        0        0   \n",
       "8787     3.0        2.0    151.0  800000  ...        0        0        0   \n",
       "15217    4.0        3.0    193.0  290000  ...        0        0        0   \n",
       "5565     3.0        4.0    183.0  308000  ...        0        0        0   \n",
       "\n",
       "      level7Id level8Id accuracy  latitude longitude zipCode customZone  \n",
       "1450         0        0        0  40,60225  -3,96713     NaN        NaN  \n",
       "13278        0        0        0  40,31585  -3,44548     NaN        NaN  \n",
       "8787         0        0        0  40,45935  -3,68333     NaN        NaN  \n",
       "15217        0        0        0  40,67027  -4,08932     NaN        NaN  \n",
       "5565         0        0        0  40,49911  -3,37373     NaN        NaN  \n",
       "\n",
       "[5 rows x 37 columns]"
      ]
     },
     "execution_count": 2,
     "metadata": {},
     "output_type": "execute_result"
    }
   ],
   "source": [
    "\n",
    "df=pd.read_csv('assets/real_estate.csv',sep=\";\")\n",
    "\n",
    "df.tail() ##5 ultimas filas\n",
    "df.sample(5) ##5 al azar\n",
    "\n",
    "\n"
   ]
  },
  {
   "cell_type": "code",
   "execution_count": 3,
   "id": "ecc9235e",
   "metadata": {},
   "outputs": [
    {
     "name": "stdout",
     "output_type": "stream",
     "text": [
      "<class 'pandas.core.frame.DataFrame'>\n",
      "RangeIndex: 15335 entries, 0 to 15334\n",
      "Data columns (total 37 columns):\n",
      " #   Column            Non-Null Count  Dtype  \n",
      "---  ------            --------------  -----  \n",
      " 0   Unnamed: 0        15335 non-null  int64  \n",
      " 1   id_realEstates    15335 non-null  int64  \n",
      " 2   isNew             15335 non-null  bool   \n",
      " 3   realEstate_name   15325 non-null  object \n",
      " 4   phone_realEstate  14541 non-null  float64\n",
      " 5   url_inmueble      15335 non-null  object \n",
      " 6   rooms             14982 non-null  float64\n",
      " 7   bathrooms         14990 non-null  float64\n",
      " 8   surface           14085 non-null  float64\n",
      " 9   price             15335 non-null  int64  \n",
      " 10  date              15335 non-null  object \n",
      " 11  description       15193 non-null  object \n",
      " 12  address           15335 non-null  object \n",
      " 13  country           15335 non-null  object \n",
      " 14  level1            15335 non-null  object \n",
      " 15  level2            15335 non-null  object \n",
      " 16  level3            15335 non-null  object \n",
      " 17  level4            8692 non-null   object \n",
      " 18  level5            15335 non-null  object \n",
      " 19  level6            708 non-null    object \n",
      " 20  level7            13058 non-null  object \n",
      " 21  level8            6756 non-null   object \n",
      " 22  upperLevel        15335 non-null  object \n",
      " 23  countryId         15335 non-null  int64  \n",
      " 24  level1Id          15335 non-null  int64  \n",
      " 25  level2Id          15335 non-null  int64  \n",
      " 26  level3Id          15335 non-null  int64  \n",
      " 27  level4Id          15335 non-null  int64  \n",
      " 28  level5Id          15335 non-null  int64  \n",
      " 29  level6Id          15335 non-null  int64  \n",
      " 30  level7Id          15335 non-null  int64  \n",
      " 31  level8Id          15335 non-null  int64  \n",
      " 32  accuracy          15335 non-null  int64  \n",
      " 33  latitude          15335 non-null  object \n",
      " 34  longitude         15335 non-null  object \n",
      " 35  zipCode           0 non-null      float64\n",
      " 36  customZone        0 non-null      float64\n",
      "dtypes: bool(1), float64(6), int64(13), object(17)\n",
      "memory usage: 4.2+ MB\n"
     ]
    }
   ],
   "source": [
    "##df.type()\n",
    "df.info()## \n"
   ]
  },
  {
   "cell_type": "markdown",
   "id": "40631cd6",
   "metadata": {},
   "source": [
    "#### What is the most expensive home in the dataset? (★☆☆)"
   ]
  },
  {
   "cell_type": "code",
   "execution_count": 4,
   "id": "8a758bcf",
   "metadata": {},
   "outputs": [
    {
     "name": "stdout",
     "output_type": "stream",
     "text": [
      "El mayor precio es: 8500000\n",
      "La media del precio es: 477303.56641669385\n"
     ]
    },
    {
     "data": {
      "text/plain": [
       "count    1.533500e+04\n",
       "mean     4.773036e+05\n",
       "std      5.912942e+05\n",
       "min      0.000000e+00\n",
       "25%      1.690000e+05\n",
       "50%      2.800000e+05\n",
       "75%      5.400000e+05\n",
       "max      8.500000e+06\n",
       "Name: price, dtype: float64"
      ]
     },
     "execution_count": 4,
     "metadata": {},
     "output_type": "execute_result"
    }
   ],
   "source": [
    "#por que no me funciono print('el mayor precio es: + df['price'].max())\n",
    "print('El mayor precio es:', df['price'].max())\n",
    "print('La media del precio es:', df['price'].mean())\n",
    "\n",
    "df.price.describe()\n"
   ]
  },
  {
   "cell_type": "markdown",
   "id": "0a708990",
   "metadata": {},
   "source": [
    "#### What is cheapest home in the dataset? (★☆☆)"
   ]
  },
  {
   "cell_type": "code",
   "execution_count": 5,
   "id": "477e01f4",
   "metadata": {},
   "outputs": [
    {
     "name": "stdout",
     "output_type": "stream",
     "text": [
      "El menor precio es:  600\n"
     ]
    }
   ],
   "source": [
    "datamin=df['price'][df['price']>0]\n",
    "#Me quedé con los valores distintos de cero porque no tenía sentido que el precio sea cero.\n",
    "print('El menor precio es: ',datamin.min())\n"
   ]
  },
  {
   "cell_type": "markdown",
   "id": "0b16cd77",
   "metadata": {},
   "source": [
    "#### What is the biggest and the smallest home in the dataset? (★☆☆)"
   ]
  },
  {
   "cell_type": "code",
   "execution_count": 6,
   "id": "4d9b5975",
   "metadata": {},
   "outputs": [
    {
     "name": "stdout",
     "output_type": "stream",
     "text": [
      "El más pequeño es: 15.0\n",
      "El más grande es: 249000.0\n"
     ]
    }
   ],
   "source": [
    "print('El más pequeño es:', df['surface'].min())\n",
    "print('El más grande es:',df['surface'].max())"
   ]
  },
  {
   "cell_type": "markdown",
   "id": "782d4c77",
   "metadata": {},
   "source": [
    "#### How many populations (level5) the dataset contains? (★☆☆)"
   ]
  },
  {
   "cell_type": "code",
   "execution_count": 7,
   "id": "5dbe1a08",
   "metadata": {},
   "outputs": [
    {
     "name": "stdout",
     "output_type": "stream",
     "text": [
      "<class 'pandas.core.frame.DataFrame'>\n",
      "RangeIndex: 15335 entries, 0 to 15334\n",
      "Data columns (total 37 columns):\n",
      " #   Column            Non-Null Count  Dtype  \n",
      "---  ------            --------------  -----  \n",
      " 0   Unnamed: 0        15335 non-null  int64  \n",
      " 1   id_realEstates    15335 non-null  int64  \n",
      " 2   isNew             15335 non-null  bool   \n",
      " 3   realEstate_name   15325 non-null  object \n",
      " 4   phone_realEstate  14541 non-null  float64\n",
      " 5   url_inmueble      15335 non-null  object \n",
      " 6   rooms             14982 non-null  float64\n",
      " 7   bathrooms         14990 non-null  float64\n",
      " 8   surface           14085 non-null  float64\n",
      " 9   price             15335 non-null  int64  \n",
      " 10  date              15335 non-null  object \n",
      " 11  description       15193 non-null  object \n",
      " 12  address           15335 non-null  object \n",
      " 13  country           15335 non-null  object \n",
      " 14  level1            15335 non-null  object \n",
      " 15  level2            15335 non-null  object \n",
      " 16  level3            15335 non-null  object \n",
      " 17  level4            8692 non-null   object \n",
      " 18  level5            15335 non-null  object \n",
      " 19  level6            708 non-null    object \n",
      " 20  level7            13058 non-null  object \n",
      " 21  level8            6756 non-null   object \n",
      " 22  upperLevel        15335 non-null  object \n",
      " 23  countryId         15335 non-null  int64  \n",
      " 24  level1Id          15335 non-null  int64  \n",
      " 25  level2Id          15335 non-null  int64  \n",
      " 26  level3Id          15335 non-null  int64  \n",
      " 27  level4Id          15335 non-null  int64  \n",
      " 28  level5Id          15335 non-null  int64  \n",
      " 29  level6Id          15335 non-null  int64  \n",
      " 30  level7Id          15335 non-null  int64  \n",
      " 31  level8Id          15335 non-null  int64  \n",
      " 32  accuracy          15335 non-null  int64  \n",
      " 33  latitude          15335 non-null  object \n",
      " 34  longitude         15335 non-null  object \n",
      " 35  zipCode           0 non-null      float64\n",
      " 36  customZone        0 non-null      float64\n",
      "dtypes: bool(1), float64(6), int64(13), object(17)\n",
      "memory usage: 4.2+ MB\n"
     ]
    }
   ],
   "source": [
    "df.info()"
   ]
  },
  {
   "cell_type": "markdown",
   "id": "48d48f01",
   "metadata": {},
   "source": [
    "#### Does the dataset contain NAs? (★☆☆)\n"
   ]
  },
  {
   "cell_type": "code",
   "execution_count": 8,
   "id": "3ed233e7",
   "metadata": {},
   "outputs": [
    {
     "data": {
      "text/plain": [
       "Unnamed: 0              0\n",
       "id_realEstates          0\n",
       "isNew                   0\n",
       "realEstate_name        10\n",
       "phone_realEstate      794\n",
       "url_inmueble            0\n",
       "rooms                 353\n",
       "bathrooms             345\n",
       "surface              1250\n",
       "price                   0\n",
       "date                    0\n",
       "description           142\n",
       "address                 0\n",
       "country                 0\n",
       "level1                  0\n",
       "level2                  0\n",
       "level3                  0\n",
       "level4               6643\n",
       "level5                  0\n",
       "level6              14627\n",
       "level7               2277\n",
       "level8               8579\n",
       "upperLevel              0\n",
       "countryId               0\n",
       "level1Id                0\n",
       "level2Id                0\n",
       "level3Id                0\n",
       "level4Id                0\n",
       "level5Id                0\n",
       "level6Id                0\n",
       "level7Id                0\n",
       "level8Id                0\n",
       "accuracy                0\n",
       "latitude                0\n",
       "longitude               0\n",
       "zipCode             15335\n",
       "customZone          15335\n",
       "dtype: int64"
      ]
     },
     "execution_count": 8,
     "metadata": {},
     "output_type": "execute_result"
    }
   ],
   "source": [
    "df.isnull().sum()\n"
   ]
  },
  {
   "cell_type": "markdown",
   "id": "4fa39382",
   "metadata": {},
   "source": [
    "#### Delete the NAs of the dataset, if applicable (★★☆)"
   ]
  },
  {
   "cell_type": "code",
   "execution_count": 29,
   "id": "c97757ec",
   "metadata": {},
   "outputs": [],
   "source": [
    "##Si realizo el drop de na no me funcionan ninguna de los otros calculos\n",
    "##df=df.dropna()"
   ]
  },
  {
   "cell_type": "markdown",
   "id": "0e5f76de",
   "metadata": {},
   "source": [
    "#### What is the mean of prices in the population (level5) of \"Arroyomolinos (Madrid)\"? (★★☆)"
   ]
  },
  {
   "cell_type": "code",
   "execution_count": 9,
   "id": "327f7adb",
   "metadata": {},
   "outputs": [
    {
     "name": "stdout",
     "output_type": "stream",
     "text": [
      "La media de level5 filtrado por Arroyomolinos (Madrid) es: 294541.59854014596\n"
     ]
    }
   ],
   "source": [
    "\n",
    "df.level5.describe()\n",
    "df.level5.head(10)\n",
    "print('La media de level5 filtrado por Arroyomolinos (Madrid) es:', df['price'][df['level5']=='Arroyomolinos (Madrid)'].mean())\n",
    "\n"
   ]
  },
  {
   "cell_type": "code",
   "execution_count": 27,
   "id": "25a5fbb3",
   "metadata": {},
   "outputs": [
    {
     "data": {
      "text/html": [
       "<div>\n",
       "<style scoped>\n",
       "    .dataframe tbody tr th:only-of-type {\n",
       "        vertical-align: middle;\n",
       "    }\n",
       "\n",
       "    .dataframe tbody tr th {\n",
       "        vertical-align: top;\n",
       "    }\n",
       "\n",
       "    .dataframe thead th {\n",
       "        text-align: right;\n",
       "    }\n",
       "</style>\n",
       "<table border=\"1\" class=\"dataframe\">\n",
       "  <thead>\n",
       "    <tr style=\"text-align: right;\">\n",
       "      <th></th>\n",
       "      <th>Unnamed: 0</th>\n",
       "      <th>id_realEstates</th>\n",
       "      <th>phone_realEstate</th>\n",
       "      <th>rooms</th>\n",
       "      <th>bathrooms</th>\n",
       "      <th>surface</th>\n",
       "      <th>price</th>\n",
       "      <th>countryId</th>\n",
       "      <th>level1Id</th>\n",
       "      <th>level2Id</th>\n",
       "      <th>level3Id</th>\n",
       "      <th>level4Id</th>\n",
       "      <th>level5Id</th>\n",
       "      <th>level6Id</th>\n",
       "      <th>level7Id</th>\n",
       "      <th>level8Id</th>\n",
       "      <th>accuracy</th>\n",
       "      <th>zipCode</th>\n",
       "      <th>customZone</th>\n",
       "    </tr>\n",
       "  </thead>\n",
       "  <tbody>\n",
       "    <tr>\n",
       "      <th>count</th>\n",
       "      <td>15335.000000</td>\n",
       "      <td>1.533500e+04</td>\n",
       "      <td>1.454100e+04</td>\n",
       "      <td>14982.000000</td>\n",
       "      <td>14990.000000</td>\n",
       "      <td>14085.000000</td>\n",
       "      <td>1.533500e+04</td>\n",
       "      <td>15335.0</td>\n",
       "      <td>15335.0</td>\n",
       "      <td>15335.0</td>\n",
       "      <td>15335.0</td>\n",
       "      <td>15335.0</td>\n",
       "      <td>15335.0</td>\n",
       "      <td>15335.0</td>\n",
       "      <td>15335.0</td>\n",
       "      <td>15335.0</td>\n",
       "      <td>15335.000000</td>\n",
       "      <td>0.0</td>\n",
       "      <td>0.0</td>\n",
       "    </tr>\n",
       "    <tr>\n",
       "      <th>mean</th>\n",
       "      <td>7668.000000</td>\n",
       "      <td>1.524371e+08</td>\n",
       "      <td>9.143423e+08</td>\n",
       "      <td>3.231611</td>\n",
       "      <td>2.150233</td>\n",
       "      <td>196.916436</td>\n",
       "      <td>4.773036e+05</td>\n",
       "      <td>0.0</td>\n",
       "      <td>0.0</td>\n",
       "      <td>0.0</td>\n",
       "      <td>0.0</td>\n",
       "      <td>0.0</td>\n",
       "      <td>0.0</td>\n",
       "      <td>0.0</td>\n",
       "      <td>0.0</td>\n",
       "      <td>0.0</td>\n",
       "      <td>0.166873</td>\n",
       "      <td>NaN</td>\n",
       "      <td>NaN</td>\n",
       "    </tr>\n",
       "    <tr>\n",
       "      <th>std</th>\n",
       "      <td>4426.977524</td>\n",
       "      <td>2.277286e+06</td>\n",
       "      <td>7.516036e+06</td>\n",
       "      <td>1.393106</td>\n",
       "      <td>1.292079</td>\n",
       "      <td>2182.758313</td>\n",
       "      <td>5.912942e+05</td>\n",
       "      <td>0.0</td>\n",
       "      <td>0.0</td>\n",
       "      <td>0.0</td>\n",
       "      <td>0.0</td>\n",
       "      <td>0.0</td>\n",
       "      <td>0.0</td>\n",
       "      <td>0.0</td>\n",
       "      <td>0.0</td>\n",
       "      <td>0.0</td>\n",
       "      <td>0.372875</td>\n",
       "      <td>NaN</td>\n",
       "      <td>NaN</td>\n",
       "    </tr>\n",
       "    <tr>\n",
       "      <th>min</th>\n",
       "      <td>1.000000</td>\n",
       "      <td>1.221584e+08</td>\n",
       "      <td>8.762742e+08</td>\n",
       "      <td>1.000000</td>\n",
       "      <td>1.000000</td>\n",
       "      <td>15.000000</td>\n",
       "      <td>0.000000e+00</td>\n",
       "      <td>0.0</td>\n",
       "      <td>0.0</td>\n",
       "      <td>0.0</td>\n",
       "      <td>0.0</td>\n",
       "      <td>0.0</td>\n",
       "      <td>0.0</td>\n",
       "      <td>0.0</td>\n",
       "      <td>0.0</td>\n",
       "      <td>0.0</td>\n",
       "      <td>0.000000</td>\n",
       "      <td>NaN</td>\n",
       "      <td>NaN</td>\n",
       "    </tr>\n",
       "    <tr>\n",
       "      <th>25%</th>\n",
       "      <td>3834.500000</td>\n",
       "      <td>1.519456e+08</td>\n",
       "      <td>9.113649e+08</td>\n",
       "      <td>2.000000</td>\n",
       "      <td>1.000000</td>\n",
       "      <td>80.000000</td>\n",
       "      <td>1.690000e+05</td>\n",
       "      <td>0.0</td>\n",
       "      <td>0.0</td>\n",
       "      <td>0.0</td>\n",
       "      <td>0.0</td>\n",
       "      <td>0.0</td>\n",
       "      <td>0.0</td>\n",
       "      <td>0.0</td>\n",
       "      <td>0.0</td>\n",
       "      <td>0.0</td>\n",
       "      <td>0.000000</td>\n",
       "      <td>NaN</td>\n",
       "      <td>NaN</td>\n",
       "    </tr>\n",
       "    <tr>\n",
       "      <th>50%</th>\n",
       "      <td>7668.000000</td>\n",
       "      <td>1.532413e+08</td>\n",
       "      <td>9.121841e+08</td>\n",
       "      <td>3.000000</td>\n",
       "      <td>2.000000</td>\n",
       "      <td>114.000000</td>\n",
       "      <td>2.800000e+05</td>\n",
       "      <td>0.0</td>\n",
       "      <td>0.0</td>\n",
       "      <td>0.0</td>\n",
       "      <td>0.0</td>\n",
       "      <td>0.0</td>\n",
       "      <td>0.0</td>\n",
       "      <td>0.0</td>\n",
       "      <td>0.0</td>\n",
       "      <td>0.0</td>\n",
       "      <td>0.000000</td>\n",
       "      <td>NaN</td>\n",
       "      <td>NaN</td>\n",
       "    </tr>\n",
       "    <tr>\n",
       "      <th>75%</th>\n",
       "      <td>11501.500000</td>\n",
       "      <td>1.538105e+08</td>\n",
       "      <td>9.148904e+08</td>\n",
       "      <td>4.000000</td>\n",
       "      <td>3.000000</td>\n",
       "      <td>205.000000</td>\n",
       "      <td>5.400000e+05</td>\n",
       "      <td>0.0</td>\n",
       "      <td>0.0</td>\n",
       "      <td>0.0</td>\n",
       "      <td>0.0</td>\n",
       "      <td>0.0</td>\n",
       "      <td>0.0</td>\n",
       "      <td>0.0</td>\n",
       "      <td>0.0</td>\n",
       "      <td>0.0</td>\n",
       "      <td>0.000000</td>\n",
       "      <td>NaN</td>\n",
       "      <td>NaN</td>\n",
       "    </tr>\n",
       "    <tr>\n",
       "      <th>max</th>\n",
       "      <td>15335.000000</td>\n",
       "      <td>1.540033e+08</td>\n",
       "      <td>9.887761e+08</td>\n",
       "      <td>30.000000</td>\n",
       "      <td>20.000000</td>\n",
       "      <td>249000.000000</td>\n",
       "      <td>8.500000e+06</td>\n",
       "      <td>0.0</td>\n",
       "      <td>0.0</td>\n",
       "      <td>0.0</td>\n",
       "      <td>0.0</td>\n",
       "      <td>0.0</td>\n",
       "      <td>0.0</td>\n",
       "      <td>0.0</td>\n",
       "      <td>0.0</td>\n",
       "      <td>0.0</td>\n",
       "      <td>1.000000</td>\n",
       "      <td>NaN</td>\n",
       "      <td>NaN</td>\n",
       "    </tr>\n",
       "  </tbody>\n",
       "</table>\n",
       "</div>"
      ],
      "text/plain": [
       "         Unnamed: 0  id_realEstates  phone_realEstate         rooms  \\\n",
       "count  15335.000000    1.533500e+04      1.454100e+04  14982.000000   \n",
       "mean    7668.000000    1.524371e+08      9.143423e+08      3.231611   \n",
       "std     4426.977524    2.277286e+06      7.516036e+06      1.393106   \n",
       "min        1.000000    1.221584e+08      8.762742e+08      1.000000   \n",
       "25%     3834.500000    1.519456e+08      9.113649e+08      2.000000   \n",
       "50%     7668.000000    1.532413e+08      9.121841e+08      3.000000   \n",
       "75%    11501.500000    1.538105e+08      9.148904e+08      4.000000   \n",
       "max    15335.000000    1.540033e+08      9.887761e+08     30.000000   \n",
       "\n",
       "          bathrooms        surface         price  countryId  level1Id  \\\n",
       "count  14990.000000   14085.000000  1.533500e+04    15335.0   15335.0   \n",
       "mean       2.150233     196.916436  4.773036e+05        0.0       0.0   \n",
       "std        1.292079    2182.758313  5.912942e+05        0.0       0.0   \n",
       "min        1.000000      15.000000  0.000000e+00        0.0       0.0   \n",
       "25%        1.000000      80.000000  1.690000e+05        0.0       0.0   \n",
       "50%        2.000000     114.000000  2.800000e+05        0.0       0.0   \n",
       "75%        3.000000     205.000000  5.400000e+05        0.0       0.0   \n",
       "max       20.000000  249000.000000  8.500000e+06        0.0       0.0   \n",
       "\n",
       "       level2Id  level3Id  level4Id  level5Id  level6Id  level7Id  level8Id  \\\n",
       "count   15335.0   15335.0   15335.0   15335.0   15335.0   15335.0   15335.0   \n",
       "mean        0.0       0.0       0.0       0.0       0.0       0.0       0.0   \n",
       "std         0.0       0.0       0.0       0.0       0.0       0.0       0.0   \n",
       "min         0.0       0.0       0.0       0.0       0.0       0.0       0.0   \n",
       "25%         0.0       0.0       0.0       0.0       0.0       0.0       0.0   \n",
       "50%         0.0       0.0       0.0       0.0       0.0       0.0       0.0   \n",
       "75%         0.0       0.0       0.0       0.0       0.0       0.0       0.0   \n",
       "max         0.0       0.0       0.0       0.0       0.0       0.0       0.0   \n",
       "\n",
       "           accuracy  zipCode  customZone  \n",
       "count  15335.000000      0.0         0.0  \n",
       "mean       0.166873      NaN         NaN  \n",
       "std        0.372875      NaN         NaN  \n",
       "min        0.000000      NaN         NaN  \n",
       "25%        0.000000      NaN         NaN  \n",
       "50%        0.000000      NaN         NaN  \n",
       "75%        0.000000      NaN         NaN  \n",
       "max        1.000000      NaN         NaN  "
      ]
     },
     "execution_count": 27,
     "metadata": {},
     "output_type": "execute_result"
    }
   ],
   "source": []
  },
  {
   "cell_type": "markdown",
   "id": "89b548e3",
   "metadata": {},
   "source": [
    "#### Plot the histogram of prices for the population (level5) of \"Arroyomolinos (Madrid)\" and explain what you observe (★★☆)"
   ]
  },
  {
   "cell_type": "code",
   "execution_count": 10,
   "id": "2ba51bf7",
   "metadata": {},
   "outputs": [
    {
     "data": {
      "text/plain": [
       "(array([ 2.,  0.,  3., 31., 33., 33., 28.,  3.,  2.,  2.]),\n",
       " array([     0.,  58000., 116000., 174000., 232000., 290000., 348000.,\n",
       "        406000., 464000., 522000., 580000.]),\n",
       " <BarContainer object of 10 artists>)"
      ]
     },
     "execution_count": 10,
     "metadata": {},
     "output_type": "execute_result"
    },
    {
     "data": {
      "image/png": "[encoded data removed]",
      "text/plain": [
       "<Figure size 432x288 with 1 Axes>"
      ]
     },
     "metadata": {
      "needs_background": "light"
     },
     "output_type": "display_data"
    }
   ],
   "source": [
    "plt.hist(df['price'][df['level5']=='Arroyomolinos (Madrid)'])\n"
   ]
  },
  {
   "cell_type": "markdown",
   "id": "c86dc493",
   "metadata": {},
   "source": [
    "#### Now let's work with the \"south belt\" of madrid. Make a subsetting that contains the following populations (level5): \"Fuenlabrada\",\"Leganés\",\"Getafe\",\"Alcorcón\" (★★☆) "
   ]
  },
  {
   "cell_type": "code",
   "execution_count": 11,
   "id": "3c64f2a9",
   "metadata": {},
   "outputs": [
    {
     "data": {
      "text/html": [
       "<div>\n",
       "<style scoped>\n",
       "    .dataframe tbody tr th:only-of-type {\n",
       "        vertical-align: middle;\n",
       "    }\n",
       "\n",
       "    .dataframe tbody tr th {\n",
       "        vertical-align: top;\n",
       "    }\n",
       "\n",
       "    .dataframe thead th {\n",
       "        text-align: right;\n",
       "    }\n",
       "</style>\n",
       "<table border=\"1\" class=\"dataframe\">\n",
       "  <thead>\n",
       "    <tr style=\"text-align: right;\">\n",
       "      <th></th>\n",
       "      <th>Unnamed: 0</th>\n",
       "      <th>id_realEstates</th>\n",
       "      <th>isNew</th>\n",
       "      <th>realEstate_name</th>\n",
       "      <th>phone_realEstate</th>\n",
       "      <th>url_inmueble</th>\n",
       "      <th>rooms</th>\n",
       "      <th>bathrooms</th>\n",
       "      <th>surface</th>\n",
       "      <th>price</th>\n",
       "      <th>...</th>\n",
       "      <th>level4Id</th>\n",
       "      <th>level5Id</th>\n",
       "      <th>level6Id</th>\n",
       "      <th>level7Id</th>\n",
       "      <th>level8Id</th>\n",
       "      <th>accuracy</th>\n",
       "      <th>latitude</th>\n",
       "      <th>longitude</th>\n",
       "      <th>zipCode</th>\n",
       "      <th>customZone</th>\n",
       "    </tr>\n",
       "  </thead>\n",
       "  <tbody>\n",
       "    <tr>\n",
       "      <th>1</th>\n",
       "      <td>2</td>\n",
       "      <td>153867863</td>\n",
       "      <td>False</td>\n",
       "      <td>tecnocasa fuenlabrada ferrocarril</td>\n",
       "      <td>916358736.0</td>\n",
       "      <td>https://www.fotocasa.es/es/comprar/vivienda/ma...</td>\n",
       "      <td>3.0</td>\n",
       "      <td>1.0</td>\n",
       "      <td>NaN</td>\n",
       "      <td>89000</td>\n",
       "      <td>...</td>\n",
       "      <td>0</td>\n",
       "      <td>0</td>\n",
       "      <td>0</td>\n",
       "      <td>0</td>\n",
       "      <td>0</td>\n",
       "      <td>1</td>\n",
       "      <td>40,28674</td>\n",
       "      <td>-3,79351</td>\n",
       "      <td>NaN</td>\n",
       "      <td>NaN</td>\n",
       "    </tr>\n",
       "    <tr>\n",
       "      <th>3</th>\n",
       "      <td>4</td>\n",
       "      <td>152776331</td>\n",
       "      <td>False</td>\n",
       "      <td>tecnocasa fuenlabrada ferrocarril</td>\n",
       "      <td>916358736.0</td>\n",
       "      <td>https://www.fotocasa.es/es/comprar/vivienda/ma...</td>\n",
       "      <td>3.0</td>\n",
       "      <td>1.0</td>\n",
       "      <td>86.0</td>\n",
       "      <td>89000</td>\n",
       "      <td>...</td>\n",
       "      <td>0</td>\n",
       "      <td>0</td>\n",
       "      <td>0</td>\n",
       "      <td>0</td>\n",
       "      <td>0</td>\n",
       "      <td>0</td>\n",
       "      <td>40,2853785786438</td>\n",
       "      <td>-3,79508142135624</td>\n",
       "      <td>NaN</td>\n",
       "      <td>NaN</td>\n",
       "    </tr>\n",
       "    <tr>\n",
       "      <th>85</th>\n",
       "      <td>86</td>\n",
       "      <td>153152077</td>\n",
       "      <td>False</td>\n",
       "      <td>sinergical inmobiliaria</td>\n",
       "      <td>NaN</td>\n",
       "      <td>https://www.fotocasa.es/es/comprar/vivienda/le...</td>\n",
       "      <td>1.0</td>\n",
       "      <td>1.0</td>\n",
       "      <td>50.0</td>\n",
       "      <td>107000</td>\n",
       "      <td>...</td>\n",
       "      <td>0</td>\n",
       "      <td>0</td>\n",
       "      <td>0</td>\n",
       "      <td>0</td>\n",
       "      <td>0</td>\n",
       "      <td>1</td>\n",
       "      <td>40,35059</td>\n",
       "      <td>-3,82693</td>\n",
       "      <td>NaN</td>\n",
       "      <td>NaN</td>\n",
       "    </tr>\n",
       "    <tr>\n",
       "      <th>94</th>\n",
       "      <td>95</td>\n",
       "      <td>153995577</td>\n",
       "      <td>False</td>\n",
       "      <td>viviendas365com</td>\n",
       "      <td>911226014.0</td>\n",
       "      <td>https://www.fotocasa.es/es/comprar/vivienda/le...</td>\n",
       "      <td>3.0</td>\n",
       "      <td>2.0</td>\n",
       "      <td>120.0</td>\n",
       "      <td>320000</td>\n",
       "      <td>...</td>\n",
       "      <td>0</td>\n",
       "      <td>0</td>\n",
       "      <td>0</td>\n",
       "      <td>0</td>\n",
       "      <td>0</td>\n",
       "      <td>0</td>\n",
       "      <td>40,31933</td>\n",
       "      <td>-3,77574</td>\n",
       "      <td>NaN</td>\n",
       "      <td>NaN</td>\n",
       "    </tr>\n",
       "    <tr>\n",
       "      <th>109</th>\n",
       "      <td>110</td>\n",
       "      <td>153586414</td>\n",
       "      <td>False</td>\n",
       "      <td>area uno asesores inmobiliarios</td>\n",
       "      <td>912664081.0</td>\n",
       "      <td>https://www.fotocasa.es/es/comprar/vivienda/ma...</td>\n",
       "      <td>3.0</td>\n",
       "      <td>3.0</td>\n",
       "      <td>142.0</td>\n",
       "      <td>425000</td>\n",
       "      <td>...</td>\n",
       "      <td>0</td>\n",
       "      <td>0</td>\n",
       "      <td>0</td>\n",
       "      <td>0</td>\n",
       "      <td>0</td>\n",
       "      <td>0</td>\n",
       "      <td>40,3313411</td>\n",
       "      <td>-3,8313868</td>\n",
       "      <td>NaN</td>\n",
       "      <td>NaN</td>\n",
       "    </tr>\n",
       "    <tr>\n",
       "      <th>...</th>\n",
       "      <td>...</td>\n",
       "      <td>...</td>\n",
       "      <td>...</td>\n",
       "      <td>...</td>\n",
       "      <td>...</td>\n",
       "      <td>...</td>\n",
       "      <td>...</td>\n",
       "      <td>...</td>\n",
       "      <td>...</td>\n",
       "      <td>...</td>\n",
       "      <td>...</td>\n",
       "      <td>...</td>\n",
       "      <td>...</td>\n",
       "      <td>...</td>\n",
       "      <td>...</td>\n",
       "      <td>...</td>\n",
       "      <td>...</td>\n",
       "      <td>...</td>\n",
       "      <td>...</td>\n",
       "      <td>...</td>\n",
       "      <td>...</td>\n",
       "    </tr>\n",
       "    <tr>\n",
       "      <th>15275</th>\n",
       "      <td>15276</td>\n",
       "      <td>153903887</td>\n",
       "      <td>False</td>\n",
       "      <td>aliseda servicios de gestion inmobiliaria</td>\n",
       "      <td>911368198.0</td>\n",
       "      <td>https://www.fotocasa.es/es/comprar/vivienda/al...</td>\n",
       "      <td>3.0</td>\n",
       "      <td>1.0</td>\n",
       "      <td>78.0</td>\n",
       "      <td>138000</td>\n",
       "      <td>...</td>\n",
       "      <td>0</td>\n",
       "      <td>0</td>\n",
       "      <td>0</td>\n",
       "      <td>0</td>\n",
       "      <td>0</td>\n",
       "      <td>1</td>\n",
       "      <td>40,31381</td>\n",
       "      <td>-3,83733</td>\n",
       "      <td>NaN</td>\n",
       "      <td>NaN</td>\n",
       "    </tr>\n",
       "    <tr>\n",
       "      <th>15291</th>\n",
       "      <td>15292</td>\n",
       "      <td>151697757</td>\n",
       "      <td>False</td>\n",
       "      <td>unipiso</td>\n",
       "      <td>912788631.0</td>\n",
       "      <td>https://www.fotocasa.es/es/comprar/vivienda/al...</td>\n",
       "      <td>3.0</td>\n",
       "      <td>2.0</td>\n",
       "      <td>110.0</td>\n",
       "      <td>279000</td>\n",
       "      <td>...</td>\n",
       "      <td>0</td>\n",
       "      <td>0</td>\n",
       "      <td>0</td>\n",
       "      <td>0</td>\n",
       "      <td>0</td>\n",
       "      <td>0</td>\n",
       "      <td>40,3259051</td>\n",
       "      <td>-3,76318</td>\n",
       "      <td>NaN</td>\n",
       "      <td>NaN</td>\n",
       "    </tr>\n",
       "    <tr>\n",
       "      <th>15305</th>\n",
       "      <td>15306</td>\n",
       "      <td>153902389</td>\n",
       "      <td>False</td>\n",
       "      <td>jadein ferrero</td>\n",
       "      <td>914871639.0</td>\n",
       "      <td>https://www.fotocasa.es/es/comprar/vivienda/ma...</td>\n",
       "      <td>3.0</td>\n",
       "      <td>2.0</td>\n",
       "      <td>85.0</td>\n",
       "      <td>170000</td>\n",
       "      <td>...</td>\n",
       "      <td>0</td>\n",
       "      <td>0</td>\n",
       "      <td>0</td>\n",
       "      <td>0</td>\n",
       "      <td>0</td>\n",
       "      <td>0</td>\n",
       "      <td>40,2882193</td>\n",
       "      <td>-3,8098617</td>\n",
       "      <td>NaN</td>\n",
       "      <td>NaN</td>\n",
       "    </tr>\n",
       "    <tr>\n",
       "      <th>15322</th>\n",
       "      <td>15323</td>\n",
       "      <td>153871864</td>\n",
       "      <td>False</td>\n",
       "      <td>gestion comercial</td>\n",
       "      <td>911220662.0</td>\n",
       "      <td>https://www.fotocasa.es/es/comprar/vivienda/ma...</td>\n",
       "      <td>3.0</td>\n",
       "      <td>1.0</td>\n",
       "      <td>91.0</td>\n",
       "      <td>112000</td>\n",
       "      <td>...</td>\n",
       "      <td>0</td>\n",
       "      <td>0</td>\n",
       "      <td>0</td>\n",
       "      <td>0</td>\n",
       "      <td>0</td>\n",
       "      <td>0</td>\n",
       "      <td>40,28282</td>\n",
       "      <td>-3,78892</td>\n",
       "      <td>NaN</td>\n",
       "      <td>NaN</td>\n",
       "    </tr>\n",
       "    <tr>\n",
       "      <th>15325</th>\n",
       "      <td>15326</td>\n",
       "      <td>153901467</td>\n",
       "      <td>False</td>\n",
       "      <td>montehogar 68</td>\n",
       "      <td>911790675.0</td>\n",
       "      <td>https://www.fotocasa.es/es/comprar/vivienda/ma...</td>\n",
       "      <td>2.0</td>\n",
       "      <td>2.0</td>\n",
       "      <td>99.0</td>\n",
       "      <td>215000</td>\n",
       "      <td>...</td>\n",
       "      <td>0</td>\n",
       "      <td>0</td>\n",
       "      <td>0</td>\n",
       "      <td>0</td>\n",
       "      <td>0</td>\n",
       "      <td>1</td>\n",
       "      <td>40,28062</td>\n",
       "      <td>-3,79869</td>\n",
       "      <td>NaN</td>\n",
       "      <td>NaN</td>\n",
       "    </tr>\n",
       "  </tbody>\n",
       "</table>\n",
       "<p>907 rows × 37 columns</p>\n",
       "</div>"
      ],
      "text/plain": [
       "       Unnamed: 0  id_realEstates  isNew  \\\n",
       "1               2       153867863  False   \n",
       "3               4       152776331  False   \n",
       "85             86       153152077  False   \n",
       "94             95       153995577  False   \n",
       "109           110       153586414  False   \n",
       "...           ...             ...    ...   \n",
       "15275       15276       153903887  False   \n",
       "15291       15292       151697757  False   \n",
       "15305       15306       153902389  False   \n",
       "15322       15323       153871864  False   \n",
       "15325       15326       153901467  False   \n",
       "\n",
       "                                 realEstate_name  phone_realEstate  \\\n",
       "1              tecnocasa fuenlabrada ferrocarril       916358736.0   \n",
       "3              tecnocasa fuenlabrada ferrocarril       916358736.0   \n",
       "85                       sinergical inmobiliaria               NaN   \n",
       "94                               viviendas365com       911226014.0   \n",
       "109              area uno asesores inmobiliarios       912664081.0   \n",
       "...                                          ...               ...   \n",
       "15275  aliseda servicios de gestion inmobiliaria       911368198.0   \n",
       "15291                                    unipiso       912788631.0   \n",
       "15305                             jadein ferrero       914871639.0   \n",
       "15322                          gestion comercial       911220662.0   \n",
       "15325                              montehogar 68       911790675.0   \n",
       "\n",
       "                                            url_inmueble  rooms  bathrooms  \\\n",
       "1      https://www.fotocasa.es/es/comprar/vivienda/ma...    3.0        1.0   \n",
       "3      https://www.fotocasa.es/es/comprar/vivienda/ma...    3.0        1.0   \n",
       "85     https://www.fotocasa.es/es/comprar/vivienda/le...    1.0        1.0   \n",
       "94     https://www.fotocasa.es/es/comprar/vivienda/le...    3.0        2.0   \n",
       "109    https://www.fotocasa.es/es/comprar/vivienda/ma...    3.0        3.0   \n",
       "...                                                  ...    ...        ...   \n",
       "15275  https://www.fotocasa.es/es/comprar/vivienda/al...    3.0        1.0   \n",
       "15291  https://www.fotocasa.es/es/comprar/vivienda/al...    3.0        2.0   \n",
       "15305  https://www.fotocasa.es/es/comprar/vivienda/ma...    3.0        2.0   \n",
       "15322  https://www.fotocasa.es/es/comprar/vivienda/ma...    3.0        1.0   \n",
       "15325  https://www.fotocasa.es/es/comprar/vivienda/ma...    2.0        2.0   \n",
       "\n",
       "       surface   price  ... level4Id level5Id level6Id level7Id level8Id  \\\n",
       "1          NaN   89000  ...        0        0        0        0        0   \n",
       "3         86.0   89000  ...        0        0        0        0        0   \n",
       "85        50.0  107000  ...        0        0        0        0        0   \n",
       "94       120.0  320000  ...        0        0        0        0        0   \n",
       "109      142.0  425000  ...        0        0        0        0        0   \n",
       "...        ...     ...  ...      ...      ...      ...      ...      ...   \n",
       "15275     78.0  138000  ...        0        0        0        0        0   \n",
       "15291    110.0  279000  ...        0        0        0        0        0   \n",
       "15305     85.0  170000  ...        0        0        0        0        0   \n",
       "15322     91.0  112000  ...        0        0        0        0        0   \n",
       "15325     99.0  215000  ...        0        0        0        0        0   \n",
       "\n",
       "      accuracy          latitude          longitude zipCode customZone  \n",
       "1            1          40,28674           -3,79351     NaN        NaN  \n",
       "3            0  40,2853785786438  -3,79508142135624     NaN        NaN  \n",
       "85           1          40,35059           -3,82693     NaN        NaN  \n",
       "94           0          40,31933           -3,77574     NaN        NaN  \n",
       "109          0        40,3313411         -3,8313868     NaN        NaN  \n",
       "...        ...               ...                ...     ...        ...  \n",
       "15275        1          40,31381           -3,83733     NaN        NaN  \n",
       "15291        0        40,3259051           -3,76318     NaN        NaN  \n",
       "15305        0        40,2882193         -3,8098617     NaN        NaN  \n",
       "15322        0          40,28282           -3,78892     NaN        NaN  \n",
       "15325        1          40,28062           -3,79869     NaN        NaN  \n",
       "\n",
       "[907 rows x 37 columns]"
      ]
     },
     "execution_count": 11,
     "metadata": {},
     "output_type": "execute_result"
    }
   ],
   "source": [
    "southbelt=['Fuenlabrada','Leganés','Getafe','Alcorcón']\n",
    "\n",
    "south_belt=df[df['level5'].isin(southbelt)]\n",
    "south_belt"
   ]
  },
  {
   "cell_type": "markdown",
   "id": "090a6a3e",
   "metadata": {},
   "source": [
    "#### Make a bar plot of the median of prices (★★★) "
   ]
  },
  {
   "cell_type": "code",
   "execution_count": 12,
   "id": "68aec11c",
   "metadata": {},
   "outputs": [
    {
     "data": {
      "image/png": "[encoded data removed]",
      "text/plain": [
       "<Figure size 432x288 with 1 Axes>"
      ]
     },
     "metadata": {
      "needs_background": "light"
     },
     "output_type": "display_data"
    }
   ],
   "source": [
    "\n",
    "for name in southbelt:\n",
    "     globals()[f\"mean_{name}\"]=np.median(south_belt['price'][south_belt['level5']==name])\n",
    "fig = plt.figure()\n",
    "ax = fig.add_axes([0,0,1,1])\n",
    "means = [mean_Fuenlabrada,mean_Leganés,mean_Getafe,mean_Alcorcón]\n",
    "ax.bar(southbelt,means)\n",
    "plt.show()"
   ]
  },
  {
   "cell_type": "markdown",
   "id": "18f67373",
   "metadata": {},
   "source": [
    "#### Calculate the sample mean and variance of the variables: price, rooms, surface area and bathrooms (★★★) "
   ]
  },
  {
   "cell_type": "code",
   "execution_count": 13,
   "id": "8d068061",
   "metadata": {},
   "outputs": [
    {
     "name": "stdout",
     "output_type": "stream",
     "text": [
      "Media de price 223094.48070562293\n",
      "Varianza de price 14921367508.04902\n",
      "Media de rooms 3.0177383592017737\n",
      "Varianza de rooms 0.7188858892927542\n",
      "Media de surface 111.75222363405337\n",
      "Varianza de surface 4263.051760316337\n",
      "Media de bathrooms 1.633221850613155\n",
      "Varianza de bathrooms 0.5717968625577321\n"
     ]
    }
   ],
   "source": [
    "##lo realicé para el subgrupo south_belt\n",
    "\n",
    "for var in ['price', 'rooms', 'surface', 'bathrooms']:\n",
    "    print('Media de '+var ,south_belt[var].mean())\n",
    "    print('Varianza de '+var ,south_belt[var].var())"
   ]
  },
  {
   "cell_type": "markdown",
   "id": "95cfde61",
   "metadata": {},
   "source": [
    "#### What is the most expensive home of each population? (★★☆) "
   ]
  },
  {
   "cell_type": "code",
   "execution_count": 14,
   "id": "1c29f78c",
   "metadata": {},
   "outputs": [
    {
     "name": "stdout",
     "output_type": "stream",
     "text": [
      "Precio max en Fuenlabrada 490000\n",
      "Precio max en Leganés 650000\n",
      "Precio max en Getafe 1050000\n",
      "Precio max en Alcorcón 950000\n",
      "Las 20 propiedades más caras:\n"
     ]
    },
    {
     "data": {
      "text/html": [
       "<div>\n",
       "<style scoped>\n",
       "    .dataframe tbody tr th:only-of-type {\n",
       "        vertical-align: middle;\n",
       "    }\n",
       "\n",
       "    .dataframe tbody tr th {\n",
       "        vertical-align: top;\n",
       "    }\n",
       "\n",
       "    .dataframe thead th {\n",
       "        text-align: right;\n",
       "    }\n",
       "</style>\n",
       "<table border=\"1\" class=\"dataframe\">\n",
       "  <thead>\n",
       "    <tr style=\"text-align: right;\">\n",
       "      <th></th>\n",
       "      <th>level5</th>\n",
       "      <th>price</th>\n",
       "    </tr>\n",
       "  </thead>\n",
       "  <tbody>\n",
       "    <tr>\n",
       "      <th>2881</th>\n",
       "      <td>Getafe</td>\n",
       "      <td>1050000</td>\n",
       "    </tr>\n",
       "    <tr>\n",
       "      <th>5585</th>\n",
       "      <td>Alcorcón</td>\n",
       "      <td>950000</td>\n",
       "    </tr>\n",
       "    <tr>\n",
       "      <th>12204</th>\n",
       "      <td>Getafe</td>\n",
       "      <td>775000</td>\n",
       "    </tr>\n",
       "    <tr>\n",
       "      <th>4900</th>\n",
       "      <td>Getafe</td>\n",
       "      <td>759500</td>\n",
       "    </tr>\n",
       "    <tr>\n",
       "      <th>10412</th>\n",
       "      <td>Leganés</td>\n",
       "      <td>650000</td>\n",
       "    </tr>\n",
       "    <tr>\n",
       "      <th>13275</th>\n",
       "      <td>Alcorcón</td>\n",
       "      <td>610000</td>\n",
       "    </tr>\n",
       "    <tr>\n",
       "      <th>1903</th>\n",
       "      <td>Alcorcón</td>\n",
       "      <td>602800</td>\n",
       "    </tr>\n",
       "    <tr>\n",
       "      <th>9417</th>\n",
       "      <td>Getafe</td>\n",
       "      <td>585000</td>\n",
       "    </tr>\n",
       "    <tr>\n",
       "      <th>9192</th>\n",
       "      <td>Getafe</td>\n",
       "      <td>585000</td>\n",
       "    </tr>\n",
       "    <tr>\n",
       "      <th>4680</th>\n",
       "      <td>Getafe</td>\n",
       "      <td>530000</td>\n",
       "    </tr>\n",
       "    <tr>\n",
       "      <th>6552</th>\n",
       "      <td>Alcorcón</td>\n",
       "      <td>527800</td>\n",
       "    </tr>\n",
       "    <tr>\n",
       "      <th>8127</th>\n",
       "      <td>Getafe</td>\n",
       "      <td>525000</td>\n",
       "    </tr>\n",
       "    <tr>\n",
       "      <th>6678</th>\n",
       "      <td>Alcorcón</td>\n",
       "      <td>522700</td>\n",
       "    </tr>\n",
       "    <tr>\n",
       "      <th>8248</th>\n",
       "      <td>Alcorcón</td>\n",
       "      <td>508300</td>\n",
       "    </tr>\n",
       "    <tr>\n",
       "      <th>1677</th>\n",
       "      <td>Getafe</td>\n",
       "      <td>500598</td>\n",
       "    </tr>\n",
       "    <tr>\n",
       "      <th>7329</th>\n",
       "      <td>Alcorcón</td>\n",
       "      <td>492300</td>\n",
       "    </tr>\n",
       "    <tr>\n",
       "      <th>7682</th>\n",
       "      <td>Getafe</td>\n",
       "      <td>492000</td>\n",
       "    </tr>\n",
       "    <tr>\n",
       "      <th>11561</th>\n",
       "      <td>Fuenlabrada</td>\n",
       "      <td>490000</td>\n",
       "    </tr>\n",
       "    <tr>\n",
       "      <th>7983</th>\n",
       "      <td>Getafe</td>\n",
       "      <td>489000</td>\n",
       "    </tr>\n",
       "    <tr>\n",
       "      <th>2125</th>\n",
       "      <td>Getafe</td>\n",
       "      <td>489000</td>\n",
       "    </tr>\n",
       "  </tbody>\n",
       "</table>\n",
       "</div>"
      ],
      "text/plain": [
       "            level5    price\n",
       "2881        Getafe  1050000\n",
       "5585      Alcorcón   950000\n",
       "12204       Getafe   775000\n",
       "4900        Getafe   759500\n",
       "10412      Leganés   650000\n",
       "13275     Alcorcón   610000\n",
       "1903      Alcorcón   602800\n",
       "9417        Getafe   585000\n",
       "9192        Getafe   585000\n",
       "4680        Getafe   530000\n",
       "6552      Alcorcón   527800\n",
       "8127        Getafe   525000\n",
       "6678      Alcorcón   522700\n",
       "8248      Alcorcón   508300\n",
       "1677        Getafe   500598\n",
       "7329      Alcorcón   492300\n",
       "7682        Getafe   492000\n",
       "11561  Fuenlabrada   490000\n",
       "7983        Getafe   489000\n",
       "2125        Getafe   489000"
      ]
     },
     "execution_count": 14,
     "metadata": {},
     "output_type": "execute_result"
    }
   ],
   "source": [
    "for name in southbelt:\n",
    "    print('Precio max en '+name,df['price'][df['level5']==name].max())\n",
    "df1=df[df['level5'].isin(southbelt)]\n",
    "df1=df1[['level5','price']].sort_values(by='price', ascending=False)\n",
    "print('Las 20 propiedades más caras:')\n",
    "df1.head(20)"
   ]
  },
  {
   "cell_type": "markdown",
   "id": "ea67579b",
   "metadata": {},
   "source": [
    "#### Normalize the variable of prices for each population and plot the 4 histograms in the same plot (★★★) "
   ]
  },
  {
   "cell_type": "code",
   "execution_count": 15,
   "id": "385ad99c",
   "metadata": {},
   "outputs": [
    {
     "data": {
      "image/png": "[encoded data removed]",
      "text/plain": [
       "<Figure size 432x288 with 1 Axes>"
      ]
     },
     "metadata": {
      "needs_background": "light"
     },
     "output_type": "display_data"
    }
   ],
   "source": [
    "###Graph in the same plot\n",
    "\n",
    "for name in southbelt:\n",
    "    normalized_name=(south_belt['price'][south_belt['level5']==name]-(south_belt['price'][south_belt['level5']==name].min()))/(south_belt['price'][south_belt['level5']==name].max()-(south_belt['price'][south_belt['level5']==name].min()))\n",
    "    plt.title('Histograms')\n",
    "    plt.hist(normalized_name)\n",
    "    plt.legend(['Fuenlabrada','Leganés','Getafe','Alcorcón'])\n"
   ]
  },
  {
   "cell_type": "markdown",
   "id": "2ec1bd5c",
   "metadata": {},
   "source": [
    "#### Make a plot of the coordinates (lat and long) of the south belt of Madrid by color of each population (★★★★) \n",
    "This is a extremely hard exercise and we highly recommend to do it at the end of everything"
   ]
  },
  {
   "cell_type": "code",
   "execution_count": 70,
   "id": "35658c6f",
   "metadata": {},
   "outputs": [
    {
     "data": {
      "text/plain": [
       "0        40.294828\n",
       "1        40.286740\n",
       "2        40.411565\n",
       "3        40.285379\n",
       "4        40.299877\n",
       "           ...    \n",
       "15330    40.454160\n",
       "15331    40.366520\n",
       "15332    40.574440\n",
       "15333    40.369670\n",
       "15334    40.457730\n",
       "Name: latitude, Length: 15335, dtype: float64"
      ]
     },
     "execution_count": 70,
     "metadata": {},
     "output_type": "execute_result"
    }
   ],
   "source": [
    "df['latitude'] = df['latitude'].replace(\",\", \".\").astype(float)\n",
    "df['latitude']\n"
   ]
  },
  {
   "cell_type": "code",
   "execution_count": 82,
   "id": "7d892178",
   "metadata": {},
   "outputs": [
    {
     "ename": "ValueError",
     "evalue": "could not convert string to float: '-3,44402412135624'",
     "output_type": "error",
     "traceback": [
      "\u001b[0;31m---------------------------------------------------------------------------\u001b[0m",
      "\u001b[0;31mValueError\u001b[0m                                Traceback (most recent call last)",
      "\u001b[1;32m/workspace/realestate-datacleanup-exercise/project.ipynb Cell 35'\u001b[0m in \u001b[0;36m<cell line: 1>\u001b[0;34m()\u001b[0m\n\u001b[0;32m----> <a href='vscode-notebook-cell://4geeksacade-realestated-3485lftnmib.ws-us47.gitpod.io/workspace/realestate-datacleanup-exercise/project.ipynb#ch0000059vscode-remote?line=0'>1</a>\u001b[0m df[\u001b[39m'\u001b[39m\u001b[39mlongitude\u001b[39m\u001b[39m'\u001b[39m] \u001b[39m=\u001b[39m df[\u001b[39m'\u001b[39;49m\u001b[39mlongitude\u001b[39;49m\u001b[39m'\u001b[39;49m]\u001b[39m.\u001b[39;49mreplace(\u001b[39m\"\u001b[39;49m\u001b[39m,\u001b[39;49m\u001b[39m\"\u001b[39;49m, \u001b[39m\"\u001b[39;49m\u001b[39m.\u001b[39;49m\u001b[39m\"\u001b[39;49m)\u001b[39m.\u001b[39;49mastype(\u001b[39mfloat\u001b[39;49m)\n\u001b[1;32m      <a href='vscode-notebook-cell://4geeksacade-realestated-3485lftnmib.ws-us47.gitpod.io/workspace/realestate-datacleanup-exercise/project.ipynb#ch0000059vscode-remote?line=1'>2</a>\u001b[0m df[\u001b[39m'\u001b[39m\u001b[39mlongitude\u001b[39m\u001b[39m'\u001b[39m]\n",
      "File \u001b[0;32m~/.pyenv/versions/3.8.13/lib/python3.8/site-packages/pandas/core/generic.py:5912\u001b[0m, in \u001b[0;36mNDFrame.astype\u001b[0;34m(self, dtype, copy, errors)\u001b[0m\n\u001b[1;32m   5905\u001b[0m     results \u001b[39m=\u001b[39m [\n\u001b[1;32m   5906\u001b[0m         \u001b[39mself\u001b[39m\u001b[39m.\u001b[39miloc[:, i]\u001b[39m.\u001b[39mastype(dtype, copy\u001b[39m=\u001b[39mcopy)\n\u001b[1;32m   5907\u001b[0m         \u001b[39mfor\u001b[39;00m i \u001b[39min\u001b[39;00m \u001b[39mrange\u001b[39m(\u001b[39mlen\u001b[39m(\u001b[39mself\u001b[39m\u001b[39m.\u001b[39mcolumns))\n\u001b[1;32m   5908\u001b[0m     ]\n\u001b[1;32m   5910\u001b[0m \u001b[39melse\u001b[39;00m:\n\u001b[1;32m   5911\u001b[0m     \u001b[39m# else, only a single dtype is given\u001b[39;00m\n\u001b[0;32m-> 5912\u001b[0m     new_data \u001b[39m=\u001b[39m \u001b[39mself\u001b[39;49m\u001b[39m.\u001b[39;49m_mgr\u001b[39m.\u001b[39;49mastype(dtype\u001b[39m=\u001b[39;49mdtype, copy\u001b[39m=\u001b[39;49mcopy, errors\u001b[39m=\u001b[39;49merrors)\n\u001b[1;32m   5913\u001b[0m     \u001b[39mreturn\u001b[39;00m \u001b[39mself\u001b[39m\u001b[39m.\u001b[39m_constructor(new_data)\u001b[39m.\u001b[39m__finalize__(\u001b[39mself\u001b[39m, method\u001b[39m=\u001b[39m\u001b[39m\"\u001b[39m\u001b[39mastype\u001b[39m\u001b[39m\"\u001b[39m)\n\u001b[1;32m   5915\u001b[0m \u001b[39m# GH 33113: handle empty frame or series\u001b[39;00m\n",
      "File \u001b[0;32m~/.pyenv/versions/3.8.13/lib/python3.8/site-packages/pandas/core/internals/managers.py:419\u001b[0m, in \u001b[0;36mBaseBlockManager.astype\u001b[0;34m(self, dtype, copy, errors)\u001b[0m\n\u001b[1;32m    418\u001b[0m \u001b[39mdef\u001b[39;00m \u001b[39mastype\u001b[39m(\u001b[39mself\u001b[39m: T, dtype, copy: \u001b[39mbool\u001b[39m \u001b[39m=\u001b[39m \u001b[39mFalse\u001b[39;00m, errors: \u001b[39mstr\u001b[39m \u001b[39m=\u001b[39m \u001b[39m\"\u001b[39m\u001b[39mraise\u001b[39m\u001b[39m\"\u001b[39m) \u001b[39m-\u001b[39m\u001b[39m>\u001b[39m T:\n\u001b[0;32m--> 419\u001b[0m     \u001b[39mreturn\u001b[39;00m \u001b[39mself\u001b[39;49m\u001b[39m.\u001b[39;49mapply(\u001b[39m\"\u001b[39;49m\u001b[39mastype\u001b[39;49m\u001b[39m\"\u001b[39;49m, dtype\u001b[39m=\u001b[39;49mdtype, copy\u001b[39m=\u001b[39;49mcopy, errors\u001b[39m=\u001b[39;49merrors)\n",
      "File \u001b[0;32m~/.pyenv/versions/3.8.13/lib/python3.8/site-packages/pandas/core/internals/managers.py:304\u001b[0m, in \u001b[0;36mBaseBlockManager.apply\u001b[0;34m(self, f, align_keys, ignore_failures, **kwargs)\u001b[0m\n\u001b[1;32m    302\u001b[0m         applied \u001b[39m=\u001b[39m b\u001b[39m.\u001b[39mapply(f, \u001b[39m*\u001b[39m\u001b[39m*\u001b[39mkwargs)\n\u001b[1;32m    303\u001b[0m     \u001b[39melse\u001b[39;00m:\n\u001b[0;32m--> 304\u001b[0m         applied \u001b[39m=\u001b[39m \u001b[39mgetattr\u001b[39;49m(b, f)(\u001b[39m*\u001b[39;49m\u001b[39m*\u001b[39;49mkwargs)\n\u001b[1;32m    305\u001b[0m \u001b[39mexcept\u001b[39;00m (\u001b[39mTypeError\u001b[39;00m, \u001b[39mNotImplementedError\u001b[39;00m):\n\u001b[1;32m    306\u001b[0m     \u001b[39mif\u001b[39;00m \u001b[39mnot\u001b[39;00m ignore_failures:\n",
      "File \u001b[0;32m~/.pyenv/versions/3.8.13/lib/python3.8/site-packages/pandas/core/internals/blocks.py:580\u001b[0m, in \u001b[0;36mBlock.astype\u001b[0;34m(self, dtype, copy, errors)\u001b[0m\n\u001b[1;32m    562\u001b[0m \u001b[39m\"\"\"\u001b[39;00m\n\u001b[1;32m    563\u001b[0m \u001b[39mCoerce to the new dtype.\u001b[39;00m\n\u001b[1;32m    564\u001b[0m \n\u001b[0;32m   (...)\u001b[0m\n\u001b[1;32m    576\u001b[0m \u001b[39mBlock\u001b[39;00m\n\u001b[1;32m    577\u001b[0m \u001b[39m\"\"\"\u001b[39;00m\n\u001b[1;32m    578\u001b[0m values \u001b[39m=\u001b[39m \u001b[39mself\u001b[39m\u001b[39m.\u001b[39mvalues\n\u001b[0;32m--> 580\u001b[0m new_values \u001b[39m=\u001b[39m astype_array_safe(values, dtype, copy\u001b[39m=\u001b[39;49mcopy, errors\u001b[39m=\u001b[39;49merrors)\n\u001b[1;32m    582\u001b[0m new_values \u001b[39m=\u001b[39m maybe_coerce_values(new_values)\n\u001b[1;32m    583\u001b[0m newb \u001b[39m=\u001b[39m \u001b[39mself\u001b[39m\u001b[39m.\u001b[39mmake_block(new_values)\n",
      "File \u001b[0;32m~/.pyenv/versions/3.8.13/lib/python3.8/site-packages/pandas/core/dtypes/cast.py:1292\u001b[0m, in \u001b[0;36mastype_array_safe\u001b[0;34m(values, dtype, copy, errors)\u001b[0m\n\u001b[1;32m   1289\u001b[0m     dtype \u001b[39m=\u001b[39m dtype\u001b[39m.\u001b[39mnumpy_dtype\n\u001b[1;32m   1291\u001b[0m \u001b[39mtry\u001b[39;00m:\n\u001b[0;32m-> 1292\u001b[0m     new_values \u001b[39m=\u001b[39m astype_array(values, dtype, copy\u001b[39m=\u001b[39;49mcopy)\n\u001b[1;32m   1293\u001b[0m \u001b[39mexcept\u001b[39;00m (\u001b[39mValueError\u001b[39;00m, \u001b[39mTypeError\u001b[39;00m):\n\u001b[1;32m   1294\u001b[0m     \u001b[39m# e.g. astype_nansafe can fail on object-dtype of strings\u001b[39;00m\n\u001b[1;32m   1295\u001b[0m     \u001b[39m#  trying to convert to float\u001b[39;00m\n\u001b[1;32m   1296\u001b[0m     \u001b[39mif\u001b[39;00m errors \u001b[39m==\u001b[39m \u001b[39m\"\u001b[39m\u001b[39mignore\u001b[39m\u001b[39m\"\u001b[39m:\n",
      "File \u001b[0;32m~/.pyenv/versions/3.8.13/lib/python3.8/site-packages/pandas/core/dtypes/cast.py:1237\u001b[0m, in \u001b[0;36mastype_array\u001b[0;34m(values, dtype, copy)\u001b[0m\n\u001b[1;32m   1234\u001b[0m     values \u001b[39m=\u001b[39m values\u001b[39m.\u001b[39mastype(dtype, copy\u001b[39m=\u001b[39mcopy)\n\u001b[1;32m   1236\u001b[0m \u001b[39melse\u001b[39;00m:\n\u001b[0;32m-> 1237\u001b[0m     values \u001b[39m=\u001b[39m astype_nansafe(values, dtype, copy\u001b[39m=\u001b[39;49mcopy)\n\u001b[1;32m   1239\u001b[0m \u001b[39m# in pandas we don't store numpy str dtypes, so convert to object\u001b[39;00m\n\u001b[1;32m   1240\u001b[0m \u001b[39mif\u001b[39;00m \u001b[39misinstance\u001b[39m(dtype, np\u001b[39m.\u001b[39mdtype) \u001b[39mand\u001b[39;00m \u001b[39missubclass\u001b[39m(values\u001b[39m.\u001b[39mdtype\u001b[39m.\u001b[39mtype, \u001b[39mstr\u001b[39m):\n",
      "File \u001b[0;32m~/.pyenv/versions/3.8.13/lib/python3.8/site-packages/pandas/core/dtypes/cast.py:1181\u001b[0m, in \u001b[0;36mastype_nansafe\u001b[0;34m(arr, dtype, copy, skipna)\u001b[0m\n\u001b[1;32m   1177\u001b[0m     \u001b[39mraise\u001b[39;00m \u001b[39mValueError\u001b[39;00m(msg)\n\u001b[1;32m   1179\u001b[0m \u001b[39mif\u001b[39;00m copy \u001b[39mor\u001b[39;00m is_object_dtype(arr\u001b[39m.\u001b[39mdtype) \u001b[39mor\u001b[39;00m is_object_dtype(dtype):\n\u001b[1;32m   1180\u001b[0m     \u001b[39m# Explicit copy, or required since NumPy can't view from / to object.\u001b[39;00m\n\u001b[0;32m-> 1181\u001b[0m     \u001b[39mreturn\u001b[39;00m arr\u001b[39m.\u001b[39;49mastype(dtype, copy\u001b[39m=\u001b[39;49m\u001b[39mTrue\u001b[39;49;00m)\n\u001b[1;32m   1183\u001b[0m \u001b[39mreturn\u001b[39;00m arr\u001b[39m.\u001b[39mastype(dtype, copy\u001b[39m=\u001b[39mcopy)\n",
      "\u001b[0;31mValueError\u001b[0m: could not convert string to float: '-3,44402412135624'"
     ]
    }
   ],
   "source": [
    "df['longitude'] = df['longitude'].replace(\",\", \".\").astype(float)\n",
    "df['longitude']"
   ]
  },
  {
   "cell_type": "code",
   "execution_count": 83,
   "id": "e386ec31",
   "metadata": {},
   "outputs": [
    {
     "name": "stdout",
     "output_type": "stream",
     "text": [
      "Requirement already satisfied: folium in /home/gitpod/.pyenv/versions/3.8.13/lib/python3.8/site-packages (0.12.1.post1)\n",
      "Requirement already satisfied: jinja2>=2.9 in /home/gitpod/.pyenv/versions/3.8.13/lib/python3.8/site-packages (from folium) (3.1.1)\n",
      "Requirement already satisfied: numpy in /home/gitpod/.pyenv/versions/3.8.13/lib/python3.8/site-packages (from folium) (1.23.0)\n",
      "Requirement already satisfied: requests in /home/gitpod/.pyenv/versions/3.8.13/lib/python3.8/site-packages (from folium) (2.27.1)\n",
      "Requirement already satisfied: branca>=0.3.0 in /home/gitpod/.pyenv/versions/3.8.13/lib/python3.8/site-packages (from folium) (0.5.0)\n",
      "Requirement already satisfied: MarkupSafe>=2.0 in /home/gitpod/.pyenv/versions/3.8.13/lib/python3.8/site-packages (from jinja2>=2.9->folium) (2.1.1)\n",
      "Requirement already satisfied: charset-normalizer~=2.0.0 in /home/gitpod/.pyenv/versions/3.8.13/lib/python3.8/site-packages (from requests->folium) (2.0.12)\n",
      "Requirement already satisfied: urllib3<1.27,>=1.21.1 in /home/gitpod/.pyenv/versions/3.8.13/lib/python3.8/site-packages (from requests->folium) (1.26.9)\n",
      "Requirement already satisfied: certifi>=2017.4.17 in /home/gitpod/.pyenv/versions/3.8.13/lib/python3.8/site-packages (from requests->folium) (2021.10.8)\n",
      "Requirement already satisfied: idna<4,>=2.5 in /home/gitpod/.pyenv/versions/3.8.13/lib/python3.8/site-packages (from requests->folium) (3.3)\n",
      "\u001b[33mWARNING: You are using pip version 22.0.4; however, version 22.1.2 is available.\n",
      "You should consider upgrading via the '/home/gitpod/.pyenv/versions/3.8.13/bin/python3.8 -m pip install --upgrade pip' command.\u001b[0m\u001b[33m\n",
      "\u001b[0m"
     ]
    },
    {
     "ename": "ValueError",
     "evalue": "Location should consist of two numerical values, but '-3,44402412135624' of type <class 'str'> is not convertible to float.",
     "output_type": "error",
     "traceback": [
      "\u001b[0;31m---------------------------------------------------------------------------\u001b[0m",
      "\u001b[0;31mValueError\u001b[0m                                Traceback (most recent call last)",
      "File \u001b[0;32m~/.pyenv/versions/3.8.13/lib/python3.8/site-packages/folium/utilities.py:60\u001b[0m, in \u001b[0;36mvalidate_location\u001b[0;34m(location)\u001b[0m\n\u001b[1;32m     59\u001b[0m \u001b[39mtry\u001b[39;00m:\n\u001b[0;32m---> 60\u001b[0m     \u001b[39mfloat\u001b[39;49m(coord)\n\u001b[1;32m     61\u001b[0m \u001b[39mexcept\u001b[39;00m (\u001b[39mTypeError\u001b[39;00m, \u001b[39mValueError\u001b[39;00m):\n",
      "\u001b[0;31mValueError\u001b[0m: could not convert string to float: '-3,44402412135624'",
      "\nDuring handling of the above exception, another exception occurred:\n",
      "\u001b[0;31mValueError\u001b[0m                                Traceback (most recent call last)",
      "\u001b[1;32m/workspace/realestate-datacleanup-exercise/project.ipynb Cell 36'\u001b[0m in \u001b[0;36m<cell line: 9>\u001b[0;34m()\u001b[0m\n\u001b[1;32m     <a href='vscode-notebook-cell://4geeksacade-realestated-3485lftnmib.ws-us47.gitpod.io/workspace/realestate-datacleanup-exercise/project.ipynb#ch0000033vscode-remote?line=9'>10</a>\u001b[0m   lat\u001b[39m=\u001b[39mdf[\u001b[39m'\u001b[39m\u001b[39mlatitude\u001b[39m\u001b[39m'\u001b[39m]\u001b[39m.\u001b[39mto_list()[i]\n\u001b[1;32m     <a href='vscode-notebook-cell://4geeksacade-realestated-3485lftnmib.ws-us47.gitpod.io/workspace/realestate-datacleanup-exercise/project.ipynb#ch0000033vscode-remote?line=10'>11</a>\u001b[0m   lon\u001b[39m=\u001b[39mdf[\u001b[39m'\u001b[39m\u001b[39mlongitude\u001b[39m\u001b[39m'\u001b[39m]\u001b[39m.\u001b[39mto_list()[i]\n\u001b[0;32m---> <a href='vscode-notebook-cell://4geeksacade-realestated-3485lftnmib.ws-us47.gitpod.io/workspace/realestate-datacleanup-exercise/project.ipynb#ch0000033vscode-remote?line=11'>12</a>\u001b[0m   folium\u001b[39m.\u001b[39;49mMarker(location\u001b[39m=\u001b[39;49m[lat,lon],icon\u001b[39m=\u001b[39;49mfolium\u001b[39m.\u001b[39;49mIcon(color\u001b[39m=\u001b[39;49m\u001b[39m'\u001b[39;49m\u001b[39mred\u001b[39;49m\u001b[39m'\u001b[39;49m,icon\u001b[39m=\u001b[39;49m\u001b[39m'\u001b[39;49m\u001b[39mcheck\u001b[39;49m\u001b[39m'\u001b[39;49m,prefix\u001b[39m=\u001b[39;49m\u001b[39m'\u001b[39;49m\u001b[39mfa\u001b[39;49m\u001b[39m'\u001b[39;49m))\u001b[39m.\u001b[39madd_to(\u001b[39mmap\u001b[39m)\n\u001b[1;32m     <a href='vscode-notebook-cell://4geeksacade-realestated-3485lftnmib.ws-us47.gitpod.io/workspace/realestate-datacleanup-exercise/project.ipynb#ch0000033vscode-remote?line=12'>13</a>\u001b[0m \u001b[39mmap\u001b[39m\n",
      "File \u001b[0;32m~/.pyenv/versions/3.8.13/lib/python3.8/site-packages/folium/map.py:277\u001b[0m, in \u001b[0;36mMarker.__init__\u001b[0;34m(self, location, popup, tooltip, icon, draggable, **kwargs)\u001b[0m\n\u001b[1;32m    275\u001b[0m \u001b[39msuper\u001b[39m(Marker, \u001b[39mself\u001b[39m)\u001b[39m.\u001b[39m\u001b[39m__init__\u001b[39m()\n\u001b[1;32m    276\u001b[0m \u001b[39mself\u001b[39m\u001b[39m.\u001b[39m_name \u001b[39m=\u001b[39m \u001b[39m'\u001b[39m\u001b[39mMarker\u001b[39m\u001b[39m'\u001b[39m\n\u001b[0;32m--> 277\u001b[0m \u001b[39mself\u001b[39m\u001b[39m.\u001b[39mlocation \u001b[39m=\u001b[39m validate_location(location) \u001b[39mif\u001b[39;00m location \u001b[39melse\u001b[39;00m \u001b[39mNone\u001b[39;00m\n\u001b[1;32m    278\u001b[0m \u001b[39mself\u001b[39m\u001b[39m.\u001b[39moptions \u001b[39m=\u001b[39m parse_options(\n\u001b[1;32m    279\u001b[0m     draggable\u001b[39m=\u001b[39mdraggable \u001b[39mor\u001b[39;00m \u001b[39mNone\u001b[39;00m,\n\u001b[1;32m    280\u001b[0m     autoPan\u001b[39m=\u001b[39mdraggable \u001b[39mor\u001b[39;00m \u001b[39mNone\u001b[39;00m,\n\u001b[1;32m    281\u001b[0m     \u001b[39m*\u001b[39m\u001b[39m*\u001b[39mkwargs\n\u001b[1;32m    282\u001b[0m )\n\u001b[1;32m    283\u001b[0m \u001b[39mif\u001b[39;00m icon \u001b[39mis\u001b[39;00m \u001b[39mnot\u001b[39;00m \u001b[39mNone\u001b[39;00m:\n",
      "File \u001b[0;32m~/.pyenv/versions/3.8.13/lib/python3.8/site-packages/folium/utilities.py:62\u001b[0m, in \u001b[0;36mvalidate_location\u001b[0;34m(location)\u001b[0m\n\u001b[1;32m     60\u001b[0m     \u001b[39mfloat\u001b[39m(coord)\n\u001b[1;32m     61\u001b[0m \u001b[39mexcept\u001b[39;00m (\u001b[39mTypeError\u001b[39;00m, \u001b[39mValueError\u001b[39;00m):\n\u001b[0;32m---> 62\u001b[0m     \u001b[39mraise\u001b[39;00m \u001b[39mValueError\u001b[39;00m(\u001b[39m'\u001b[39m\u001b[39mLocation should consist of two numerical values, \u001b[39m\u001b[39m'\u001b[39m\n\u001b[1;32m     63\u001b[0m                      \u001b[39m'\u001b[39m\u001b[39mbut \u001b[39m\u001b[39m{!r}\u001b[39;00m\u001b[39m of type \u001b[39m\u001b[39m{}\u001b[39;00m\u001b[39m is not convertible to float.\u001b[39m\u001b[39m'\u001b[39m\n\u001b[1;32m     64\u001b[0m                      \u001b[39m.\u001b[39mformat(coord, \u001b[39mtype\u001b[39m(coord)))\n\u001b[1;32m     65\u001b[0m \u001b[39mif\u001b[39;00m math\u001b[39m.\u001b[39misnan(\u001b[39mfloat\u001b[39m(coord)):\n\u001b[1;32m     66\u001b[0m     \u001b[39mraise\u001b[39;00m \u001b[39mValueError\u001b[39;00m(\u001b[39m'\u001b[39m\u001b[39mLocation values cannot contain NaNs.\u001b[39m\u001b[39m'\u001b[39m)\n",
      "\u001b[0;31mValueError\u001b[0m: Location should consist of two numerical values, but '-3,44402412135624' of type <class 'str'> is not convertible to float."
     ]
    }
   ],
   "source": [
    "# import the library\n",
    "!pip install folium\n",
    "import folium\n",
    "\n",
    "import folium\n",
    "\n",
    "map = folium.Map()\n",
    "\n",
    "for i in range(len(df)):\n",
    "  lat=df['latitude'].to_list()[i]\n",
    "  lon=df['longitude'].to_list()[i]\n",
    "  folium.Marker(location=[lat,lon],icon=folium.Icon(color='red',icon='check',prefix='fa')).add_to(map)\n",
    "map  \n"
   ]
  },
  {
   "cell_type": "code",
   "execution_count": 7,
   "id": "01de928d",
   "metadata": {},
   "outputs": [
    {
     "data": {
      "application/vnd.jupyter.widget-view+json": {
       "model_id": "1d685fb68c4e4ce3aff686e74c295573",
       "version_major": 2,
       "version_minor": 0
      },
      "text/plain": [
       "Map(center=[60, -2.2], controls=(ZoomControl(options=['position', 'zoom_in_text', 'zoom_in_title', 'zoom_out_t…"
      ]
     },
     "metadata": {},
     "output_type": "display_data"
    }
   ],
   "source": [
    "from ipyleaflet import Map, basemaps, Marker\n",
    "import pandas as pd\n",
    "\n",
    "# Map centred on (60 degrees latitude et -2.2 degrees longitude)\n",
    "# Latitude, longitude\n",
    "map = Map(center = (60, -2.2), zoom = 2, min_zoom = 1, max_zoom = 20, \n",
    "    basemap=basemaps.Stamen.Terrain)\n",
    "\n",
    "data_frame = pd.read_csv('./assets/real_estate.csv', sep=';')\n",
    "filtered_data_frame = data_frame[['level5', 'latitude', 'longitude']]\n",
    "populations_to_filter = ('Fuenlabrada', 'Leganés', 'Getafe', 'Alcorcón')\n",
    "colors = ('red', 'blue', 'yellow', 'pink')\n",
    "population_data_frames_dict = {\n",
    "    population: filtered_data_frame[filtered_data_frame['level5'] == population].dropna()\n",
    "    for population in populations_to_filter\n",
    "}\n",
    "\n",
    "for population in populations_to_filter:\n",
    "    population_data_frame = population_data_frames_dict[population]\n",
    "    for index in range(len(population_data_frame)):\n",
    "        location = (population_data_frame.iloc[index]['latitude'],\n",
    "            population_data_frame.iloc[index]['longitude'])\n",
    "        marker = Marker(location=location, draggable=False,\n",
    "            color=colors[populations_to_filter.index(population)])\n",
    "        map.add_layer(marker)\n",
    "\n",
    "map"
   ]
  },
  {
   "cell_type": "code",
   "execution_count": 18,
   "id": "ac099567",
   "metadata": {},
   "outputs": [
    {
     "name": "stdout",
     "output_type": "stream",
     "text": [
      "['Fuenlabrada']\n"
     ]
    }
   ],
   "source": [
    "print(population_df['level5'].unique())"
   ]
  },
  {
   "cell_type": "code",
   "execution_count": 20,
   "id": "3fb36ceb",
   "metadata": {},
   "outputs": [
    {
     "name": "stdout",
     "output_type": "stream",
     "text": [
      "0        40,2948276786438\n",
      "1                40,28674\n",
      "2        40,4115646786438\n",
      "3        40,2853785786438\n",
      "4        40,2998774864376\n",
      "               ...       \n",
      "15330            40,45416\n",
      "15331            40,36652\n",
      "15332            40,57444\n",
      "15333            40,36967\n",
      "15334            40,45773\n",
      "Name: latitude, Length: 15335, dtype: object\n",
      "0        40,2948276786438\n",
      "1                40,28674\n",
      "2        40,4115646786438\n",
      "3        40,2853785786438\n",
      "4        40,2998774864376\n",
      "               ...       \n",
      "15330            40,45416\n",
      "15331            40,36652\n",
      "15332            40,57444\n",
      "15333            40,36967\n",
      "15334            40,45773\n",
      "Name: latitude, Length: 15335, dtype: object\n",
      "0        40,2948276786438\n",
      "1                40,28674\n",
      "2        40,4115646786438\n",
      "3        40,2853785786438\n",
      "4        40,2998774864376\n",
      "               ...       \n",
      "15330            40,45416\n",
      "15331            40,36652\n",
      "15332            40,57444\n",
      "15333            40,36967\n",
      "15334            40,45773\n",
      "Name: latitude, Length: 15335, dtype: object\n",
      "0        40,2948276786438\n",
      "1                40,28674\n",
      "2        40,4115646786438\n",
      "3        40,2853785786438\n",
      "4        40,2998774864376\n",
      "               ...       \n",
      "15330            40,45416\n",
      "15331            40,36652\n",
      "15332            40,57444\n",
      "15333            40,36967\n",
      "15334            40,45773\n",
      "Name: latitude, Length: 15335, dtype: object\n"
     ]
    }
   ],
   "source": [
    "filtrado=df\n",
    "for name in southbelt:\n",
    "    filtado=df[df['level5']==name].iloc[0]\n",
    "    latitude_name=filtrado['latitude']\n",
    "\n",
    "    print(latitude_name)"
   ]
  },
  {
   "cell_type": "code",
   "execution_count": 21,
   "id": "f7931ec0",
   "metadata": {},
   "outputs": [
    {
     "ename": "NameError",
     "evalue": "name 'Marker' is not defined",
     "output_type": "error",
     "traceback": [
      "\u001b[0;31m---------------------------------------------------------------------------\u001b[0m",
      "\u001b[0;31mNameError\u001b[0m                                 Traceback (most recent call last)",
      "\u001b[1;32m/workspace/realestate-datacleanup-exercise/project.ipynb Cell 42'\u001b[0m in \u001b[0;36m<cell line: 37>\u001b[0;34m()\u001b[0m\n\u001b[1;32m     <a href='vscode-notebook-cell://4geeksacade-realestated-3485lftnmib.ws-us47.gitpod.io/workspace/realestate-datacleanup-exercise/project.ipynb#ch0000042vscode-remote?line=33'>34</a>\u001b[0m plt\u001b[39m.\u001b[39mplot(latitude,longitude,\u001b[39m'\u001b[39m\u001b[39mor\u001b[39m\u001b[39m'\u001b[39m)\n\u001b[1;32m     <a href='vscode-notebook-cell://4geeksacade-realestated-3485lftnmib.ws-us47.gitpod.io/workspace/realestate-datacleanup-exercise/project.ipynb#ch0000042vscode-remote?line=34'>35</a>\u001b[0m plt\u001b[39m.\u001b[39mtext(latitude,longitude,\u001b[39m'\u001b[39m\u001b[39mAlarcon\u001b[39m\u001b[39m'\u001b[39m)\n\u001b[0;32m---> <a href='vscode-notebook-cell://4geeksacade-realestated-3485lftnmib.ws-us47.gitpod.io/workspace/realestate-datacleanup-exercise/project.ipynb#ch0000042vscode-remote?line=36'>37</a>\u001b[0m marker \u001b[39m=\u001b[39m Marker(location\u001b[39m=\u001b[39m(latitude,longitude), draggable\u001b[39m=\u001b[39m\u001b[39mFalse\u001b[39;00m, color\u001b[39m=\u001b[39m\u001b[39m'\u001b[39m\u001b[39mred\u001b[39m\u001b[39m'\u001b[39m)\n\u001b[1;32m     <a href='vscode-notebook-cell://4geeksacade-realestated-3485lftnmib.ws-us47.gitpod.io/workspace/realestate-datacleanup-exercise/project.ipynb#ch0000042vscode-remote?line=37'>38</a>\u001b[0m \u001b[39mmap\u001b[39m\u001b[39m.\u001b[39madd_layer(marker)\n\u001b[1;32m     <a href='vscode-notebook-cell://4geeksacade-realestated-3485lftnmib.ws-us47.gitpod.io/workspace/realestate-datacleanup-exercise/project.ipynb#ch0000042vscode-remote?line=40'>41</a>\u001b[0m \u001b[39mmap\u001b[39m\n",
      "\u001b[0;31mNameError\u001b[0m: name 'Marker' is not defined"
     ]
    },
    {
     "data": {
      "image/png": "[encoded data removed]",
      "text/plain": [
       "<Figure size 432x288 with 1 Axes>"
      ]
     },
     "metadata": {
      "needs_background": "light"
     },
     "output_type": "display_data"
    }
   ],
   "source": [
    "## HERE: plot the coordinates of the estates\n",
    "\n",
    "## PUT HERE YOUR CODE:\n",
    "southbelt=['Fuenlabrada','Leganés','Getafe','Alcorcón']\n",
    "color=('red','blue', 'green', 'yellow')\n",
    "\n",
    "\n",
    "\n",
    "filtrado=df[df['level5']=='Fuenlabrada'].iloc[0]\n",
    "filtrado\n",
    "latitude=filtrado['latitude']\n",
    "longitude=filtrado['longitude']\n",
    "plt.plot(latitude,longitude,'or')\n",
    "plt.text(latitude,longitude,'Fuenlabrada')\n",
    "\n",
    "filtrado=df[df['level5']=='Leganés'].iloc[0]\n",
    "filtrado\n",
    "latitude=filtrado['latitude']\n",
    "longitude=filtrado['longitude']\n",
    "plt.plot(latitude,longitude,'or')\n",
    "plt.text(latitude,longitude,'Leganés')\n",
    "\n",
    "filtrado=df[df['level5']=='Getafe'].iloc[0]\n",
    "filtrado\n",
    "latitude=filtrado['latitude']\n",
    "longitude=filtrado['longitude']\n",
    "plt.plot(latitude,longitude,'or')\n",
    "plt.text(latitude,longitude,'Getafe')\n",
    "\n",
    "filtrado=df[df['level5']=='Alcorcón'].iloc[0]\n",
    "filtrado\n",
    "latitude=filtrado['latitude']\n",
    "longitude=filtrado['longitude']\n",
    "plt.plot(latitude,longitude,'or')\n",
    "plt.text(latitude,longitude,'Alarcon')\n",
    "\n",
    "marker = Marker(location=(latitude,longitude), draggable=False, color='red')\n",
    "map.add_layer(marker)\n",
    "\n",
    "\n",
    "map\n"
   ]
  },
  {
   "cell_type": "markdown",
   "id": "b22874b7",
   "metadata": {},
   "source": [
    "#### What can you say about the price per square meter between the towns of Getafe and Alcorcón?"
   ]
  },
  {
   "cell_type": "code",
   "execution_count": 22,
   "id": "e0ef506b",
   "metadata": {},
   "outputs": [
    {
     "name": "stdout",
     "output_type": "stream",
     "text": [
      "El promedio del precio por m2 en Getafe 2066.314949251463\n"
     ]
    },
    {
     "data": {
      "image/png": "[encoded data removed]",
      "text/plain": [
       "<Figure size 432x288 with 1 Axes>"
      ]
     },
     "metadata": {
      "needs_background": "light"
     },
     "output_type": "display_data"
    },
    {
     "name": "stdout",
     "output_type": "stream",
     "text": [
      "El promedio del precio por m2 en Alcorcón 2239.302480199618\n"
     ]
    },
    {
     "data": {
      "image/png": "[encoded data removed]",
      "text/plain": [
       "<Figure size 432x288 with 1 Axes>"
      ]
     },
     "metadata": {
      "needs_background": "light"
     },
     "output_type": "display_data"
    }
   ],
   "source": [
    "\n",
    "df['price_m2']=(df['price']/df['surface'])\n",
    "for name in ['Getafe', 'Alcorcón']:\n",
    "    print('El promedio del precio por m2 en ' +name,np.mean(df['price_m2'][df['level5']==name]))\n",
    "    plt.scatter(df['price'][df['level5']==name],df['surface'][df['level5']==name])\n",
    "    plt.xlabel('Price')\n",
    "    plt.ylabel('Surface')\n",
    "    plt.title(name)\n",
    "    plt.show()\n"
   ]
  },
  {
   "cell_type": "markdown",
   "id": "a4376b3f",
   "metadata": {},
   "source": [
    "#### Reload the data, is the average of \"Valdemorillo\" and \"Galapagar\" prices the same?"
   ]
  },
  {
   "cell_type": "code",
   "execution_count": 23,
   "id": "37dbaf65",
   "metadata": {},
   "outputs": [
    {
     "name": "stdout",
     "output_type": "stream",
     "text": [
      "El promedio de Valdemorillo 363860.2931034483\n",
      "El promedio de Galapagar 360063.20238095237\n",
      "El promedio del precio es mayor en Valdemorillo\n"
     ]
    }
   ],
   "source": [
    "\n",
    "for name in [\"Valdemorillo\", \"Galapagar\"]:\n",
    "    print('El promedio de ' +name,np.mean(df['price'][df['level5']==name]))\n",
    "print('El promedio del precio es mayor en Valdemorillo')"
   ]
  },
  {
   "cell_type": "markdown",
   "id": "b6af45ec",
   "metadata": {},
   "source": [
    "#### What happens if we do the same analysis for price/m2 (★★☆) "
   ]
  },
  {
   "cell_type": "code",
   "execution_count": 24,
   "id": "8231d73e",
   "metadata": {},
   "outputs": [
    {
     "name": "stdout",
     "output_type": "stream",
     "text": [
      "El promedio del precio por m2 en Valdemorillo 1317.9502109024986\n",
      "El promedio del precio por m2 en Galapagar 1606.3240303094024\n"
     ]
    }
   ],
   "source": [
    "\n",
    "for name in [\"Valdemorillo\", \"Galapagar\"]:\n",
    "    print('El promedio del precio por m2 en ' +name,np.mean(df['price_m2'][df['level5']==name]))"
   ]
  },
  {
   "cell_type": "markdown",
   "id": "2d40e202",
   "metadata": {},
   "source": [
    "#### Could you say there is a relation between surface and price? (★★☆) \n",
    "Hint: make a scatter plot."
   ]
  },
  {
   "cell_type": "code",
   "execution_count": 25,
   "id": "405462e1",
   "metadata": {},
   "outputs": [
    {
     "name": "stdout",
     "output_type": "stream",
     "text": [
      "Parecería que hay una relación lineal entre precios y superficie, sobre todo los que tienen menos superficie y más baratos (ver sgundo gráfico)\n"
     ]
    },
    {
     "data": {
      "image/png": "[encoded data removed]",
      "text/plain": [
       "<Figure size 432x288 with 1 Axes>"
      ]
     },
     "metadata": {
      "needs_background": "light"
     },
     "output_type": "display_data"
    },
    {
     "data": {
      "image/png": "[encoded data removed]",
      "text/plain": [
       "<Figure size 432x288 with 1 Axes>"
      ]
     },
     "metadata": {
      "needs_background": "light"
     },
     "output_type": "display_data"
    }
   ],
   "source": [
    "print('Parecería que hay una relación lineal entre precios y superficie, sobre todo los que tienen menos superficie y más baratos (ver sgundo gráfico)')\n",
    "plt.scatter(df['price'],df['surface'])\n",
    "plt.xlabel('Price')\n",
    "plt.ylabel('Surface')\n",
    "plt.show()\n",
    "\n",
    "##realizando zoom para ver mejor la relación\n",
    "plt.scatter(df['price'],df['surface'])\n",
    "plt.xlabel('Price')\n",
    "plt.ylabel('Surface')\n",
    "plt.ylim(0, 5000)\n",
    "plt.show()\n"
   ]
  },
  {
   "cell_type": "markdown",
   "id": "3275db77",
   "metadata": {},
   "source": [
    "#### Make the same plot for 4 different populations (level5) and rearrange them on the same graph? (★★☆) \n",
    "Hint: make a scatter plot of each population using subplots."
   ]
  },
  {
   "cell_type": "code",
   "execution_count": 26,
   "id": "e08292ff",
   "metadata": {},
   "outputs": [
    {
     "data": {
      "image/png": "[encoded data removed]",
      "text/plain": [
       "<Figure size 432x288 with 1 Axes>"
      ]
     },
     "metadata": {
      "needs_background": "light"
     },
     "output_type": "display_data"
    }
   ],
   "source": [
    "##intente hacer un for pero no me funciono, cómo sería?\n",
    "#color=['red','green','blue','black']\n",
    "#while name= southbelt and col= color:\n",
    " #   plt.scatter(df['price'][df['level5']==name],df['surface'][df['level5']==name], color=col)\n",
    "  #  plt.show()\n",
    "\n",
    "plt.scatter(df['price'][df['level5']=='Leganés'],df['surface'][df['level5']=='Leganés'], color='red', label='Leganés')\n",
    "plt.scatter(df['price'][df['level5']=='Fuenlabrada'],df['surface'][df['level5']=='Fuenlabrada'], color='blue',label='Fuenlabrada')\n",
    "plt.scatter(df['price'][df['level5']=='Arroyomolino (Madrid)'],df['surface'][df['level5']=='Arroyomolino (Madrid)'], color='green',label='Arroyomolino (Madrid)')\n",
    "plt.scatter(df['price'][df['level5']=='Getafe'],df['surface'][df['level5']=='Getafe'], color='black', label='Getafe')\n",
    "plt.xlabel('Price')\n",
    "plt.ylabel('Surface')\n",
    "plt.legend()\n",
    "plt.show()\n"
   ]
  },
  {
   "cell_type": "markdown",
   "id": "522c6bd9",
   "metadata": {},
   "source": [
    "#### How many  real estate agencies the dataset contains? (★★☆) "
   ]
  },
  {
   "cell_type": "code",
   "execution_count": 27,
   "id": "014ec6c8",
   "metadata": {},
   "outputs": [
    {
     "name": "stdout",
     "output_type": "stream",
     "text": [
      "engel volkers madrid    470\n",
      "infocasa consulting     300\n",
      "outletdeviviendas       260\n",
      "housell                 250\n",
      "solvia inmobiliaria     207\n",
      "                       ... \n",
      "javier garcia             1\n",
      "ir inmobiliaria           1\n",
      "jesus                     1\n",
      "julio                     1\n",
      "nieves                    1\n",
      "Name: realEstate_name, Length: 1821, dtype: int64\n",
      "La cantidad total de realestate agencies es:  1822\n"
     ]
    }
   ],
   "source": [
    "print(df[\"realEstate_name\"].value_counts())\n",
    "#print(df[\"realEstate_name\"].unique().tolist())\n",
    "print('La cantidad total de realestate agencies es: ',len(df[\"realEstate_name\"].unique()))"
   ]
  },
  {
   "cell_type": "markdown",
   "id": "899a101e",
   "metadata": {},
   "source": [
    "#### What is the population (level 5) that contains the most houses? (★★☆) "
   ]
  },
  {
   "cell_type": "code",
   "execution_count": 28,
   "id": "9e8b34ba",
   "metadata": {},
   "outputs": [
    {
     "name": "stdout",
     "output_type": "stream",
     "text": [
      " Madrid Capital         6643\n",
      "Alcalá de Henares        525\n",
      "Las Rozas de Madrid      383\n",
      "Móstoles                 325\n",
      "Getafe                   290\n",
      "                        ... \n",
      "Brea de Tajo               1\n",
      "El Atazar                  1\n",
      "Piñuécar-gandullas         1\n",
      "Braojos                    1\n",
      "Montejo de la Sierra       1\n",
      "Name: level5, Length: 168, dtype: int64\n",
      "La que contiene mas casas es Madrid Capital.\n"
     ]
    }
   ],
   "source": [
    "print(df[\"level5\"].value_counts())\n",
    "print('La que contiene mas casas es Madrid Capital.')"
   ]
  }
 ],
 "metadata": {
  "interpreter": {
   "hash": "110cc1dee26208153f2972f08a2ad52b6a56238dc66d48e87fb757ef2996db56"
  },
  "kernelspec": {
   "display_name": "Python 3.8.13 64-bit ('3.8.13')",
   "language": "python",
   "name": "python3"
  },
  "language_info": {
   "codemirror_mode": {
    "name": "ipython",
    "version": 3
   },
   "file_extension": ".py",
   "mimetype": "text/x-python",
   "name": "python",
   "nbconvert_exporter": "python",
   "pygments_lexer": "ipython3",
   "version": "3.8.13"
  },
  "vscode": {
   "interpreter": {
    "hash": "110cc1dee26208153f2972f08a2ad52b6a56238dc66d48e87fb757ef2996db56"
   }
  }
 },
 "nbformat": 4,
 "nbformat_minor": 5
}
